{
 "cells": [
  {
   "cell_type": "code",
   "execution_count": 4,
   "id": "f050db85-69d1-4236-b18d-6f3c9e472cf8",
   "metadata": {},
   "outputs": [],
   "source": [
    "import dotenv\n",
    "import os\n",
    "\n",
    "dotenv.load_dotenv(override=True, )\n",
    "\n",
    "token = os.environ[\"MY_GITHUB_TOKEN\"]"
   ]
  },
  {
   "cell_type": "code",
   "execution_count": 5,
   "id": "3d0a1988-eb60-4618-9cd8-dc8a77a374ea",
   "metadata": {},
   "outputs": [
    {
     "name": "stdout",
     "output_type": "stream",
     "text": [
      "Error occurred while retrieving repositories.\n"
     ]
    }
   ],
   "source": [
    "# get git LFS size\n",
    "import requests\n",
    "\n",
    "def get_repo_size(repo_owner, repo_name, headers):\n",
    "    url = f\"https://api.github.com/repos/{repo_owner}/{repo_name}\"\n",
    "    response = requests.get(url, headers=headers)\n",
    "    if response.status_code == 200:\n",
    "        repo_data = response.json()\n",
    "        repo_size = repo_data[\"size\"]\n",
    "        return repo_size\n",
    "    else:\n",
    "        return None\n",
    "\n",
    "def get_repos_with_lfs(headers, your_organization=\"cgebbe\"):\n",
    "    url = f\"https://api.github.com/orgs/{your_organization}/repos\"  # Replace with your organization name or user account\n",
    "    response = requests.get(url, headers=headers)\n",
    "    if response.status_code == 200:\n",
    "        repos = response.json()\n",
    "        repos_with_lfs = []\n",
    "        for repo in repos:\n",
    "            if repo[\"has_lfs\"]:\n",
    "                repo_owner = repo[\"owner\"][\"login\"]\n",
    "                repo_name = repo[\"name\"]\n",
    "                repo_size = get_repo_size(repo_owner, repo_name, headers)\n",
    "                repos_with_lfs.append({\"name\": repo_name, \"size\": repo_size})\n",
    "        return repos_with_lfs\n",
    "    else:\n",
    "        return None\n",
    "\n",
    "# Replace with your GitHub personal access token\n",
    "headers = {\"Authorization\": token}\n",
    "\n",
    "repos_with_lfs = get_repos_with_lfs(headers)\n",
    "if repos_with_lfs:\n",
    "    sorted_repos = sorted(repos_with_lfs, key=lambda x: x[\"size\"], reverse=True)\n",
    "    for repo in sorted_repos:\n",
    "        print(f\"Repository: {repo['name']}\\nSize: {repo['size']} KB\\n\")\n",
    "else:\n",
    "    print(\"Error occurred while retrieving repositories.\")\n"
   ]
  }
 ],
 "metadata": {
  "kernelspec": {
   "display_name": "Python 3 (ipykernel)",
   "language": "python",
   "name": "python3"
  },
  "language_info": {
   "codemirror_mode": {
    "name": "ipython",
    "version": 3
   },
   "file_extension": ".py",
   "mimetype": "text/x-python",
   "name": "python",
   "nbconvert_exporter": "python",
   "pygments_lexer": "ipython3",
   "version": "3.8.0"
  }
 },
 "nbformat": 4,
 "nbformat_minor": 5
}
