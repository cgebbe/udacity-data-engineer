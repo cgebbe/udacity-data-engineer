{
 "cells": [
  {
   "cell_type": "code",
   "execution_count": 5,
   "id": "f050db85-69d1-4236-b18d-6f3c9e472cf8",
   "metadata": {},
   "outputs": [
    {
     "data": {
      "text/plain": [
       "'LaUyY'"
      ]
     },
     "execution_count": 5,
     "metadata": {},
     "output_type": "execute_result"
    }
   ],
   "source": [
    "import dotenv\n",
    "import os\n",
    "\n",
    "dotenv.load_dotenv(override=True, )\n",
    "\n",
    "token = os.environ[\"MY_GITHUB_TOKEN\"]\n",
    "token[-5:]"
   ]
  },
  {
   "cell_type": "code",
   "execution_count": 25,
   "id": "7b8b3ebf-6f46-4d7f-924d-2aa718ffaf09",
   "metadata": {},
   "outputs": [
    {
     "name": "stdout",
     "output_type": "stream",
     "text": [
      "<Response [403]>\n"
     ]
    },
    {
     "data": {
      "text/plain": [
       "<Response [403]>"
      ]
     },
     "execution_count": 25,
     "metadata": {},
     "output_type": "execute_result"
    }
   ],
   "source": [
    "def get_repos_with_lfs(headers, your_organization=\"cgebbe\"):\n",
    "    url = f\"https://api.github.com/users/{your_organization}/repos\"  # Replace with your organization name or user account\n",
    "    response = requests.get(url, headers=headers)\n",
    "\n",
    "    print(response)\n",
    "    if response.status_code == 200:\n",
    "        repos = response.json()\n",
    "        repos_with_lfs = []\n",
    "        for repo in repos:\n",
    "            # print(repo.keys())\n",
    "            if True: # repo[\"has_lfs\"]:\n",
    "                print(repo)\n",
    "                repo_owner = repo[\"owner\"][\"login\"]\n",
    "                repo_name = repo[\"name\"]\n",
    "                repo_size = get_repo_size(repo_owner, repo_name, headers)\n",
    "                repos_with_lfs.append({\"name\": repo_name, \"size\": repo_size})\n",
    "        return repos_with_lfs\n",
    "    else:\n",
    "        return response\n",
    "\n",
    "# Replace with your GitHub personal access token\n",
    "headers = {\"Authorization\": token}    \n",
    "repos = get_repos_with_lfs(headers)\n",
    "repos"
   ]
  },
  {
   "cell_type": "code",
   "execution_count": 24,
   "id": "8450ee9a-b80a-4736-b10b-2f4f926e1cda",
   "metadata": {},
   "outputs": [
    {
     "name": "stdout",
     "output_type": "stream",
     "text": [
      "{'Server': 'GitHub.com', 'Date': 'Sun, 14 May 2023 20:05:53 GMT', 'Content-Type': 'application/json; charset=utf-8', 'Transfer-Encoding': 'chunked', 'X-RateLimit-Limit': '60', 'X-RateLimit-Remaining': '0', 'X-RateLimit-Reset': '1684097751', 'X-RateLimit-Used': '60', 'X-RateLimit-Resource': 'core', 'X-GitHub-Media-Type': 'github.v3; format=json', 'Access-Control-Expose-Headers': 'ETag, Link, Location, Retry-After, X-GitHub-OTP, X-RateLimit-Limit, X-RateLimit-Remaining, X-RateLimit-Used, X-RateLimit-Resource, X-RateLimit-Reset, X-OAuth-Scopes, X-Accepted-OAuth-Scopes, X-Poll-Interval, X-GitHub-Media-Type, X-GitHub-SSO, X-GitHub-Request-Id, Deprecation, Sunset', 'Access-Control-Allow-Origin': '*', 'Strict-Transport-Security': 'max-age=31536000; includeSubdomains; preload', 'X-Frame-Options': 'deny', 'X-Content-Type-Options': 'nosniff', 'X-XSS-Protection': '0', 'Referrer-Policy': 'origin-when-cross-origin, strict-origin-when-cross-origin', 'Content-Security-Policy': \"default-src 'none'\", 'Vary': 'Accept-Encoding, Accept, X-Requested-With', 'Content-Encoding': 'gzip', 'X-GitHub-Request-Id': '5FB0:B316:13984910:13CC16C4:64613F21'}\n"
     ]
    }
   ],
   "source": [
    "from pprint import pprint\n",
    "\n",
    "pprint(repos.headers)"
   ]
  },
  {
   "cell_type": "code",
   "execution_count": 15,
   "id": "a7287abb-203d-4804-9735-848a95423c32",
   "metadata": {},
   "outputs": [
    {
     "name": "stdout",
     "output_type": "stream",
     "text": [
      "None\n"
     ]
    }
   ],
   "source": [
    "print(repos)"
   ]
  },
  {
   "cell_type": "code",
   "execution_count": 11,
   "id": "3d0a1988-eb60-4618-9cd8-dc8a77a374ea",
   "metadata": {},
   "outputs": [
    {
     "ename": "TypeError",
     "evalue": "'<' not supported between instances of 'NoneType' and 'NoneType'",
     "output_type": "error",
     "traceback": [
      "\u001b[0;31m---------------------------------------------------------------------------\u001b[0m",
      "\u001b[0;31mTypeError\u001b[0m                                 Traceback (most recent call last)",
      "\u001b[0;32m/tmp/ipykernel_10386/2229601200.py\u001b[0m in \u001b[0;36m<module>\u001b[0;34m\u001b[0m\n\u001b[1;32m     36\u001b[0m \u001b[0mrepos_with_lfs\u001b[0m \u001b[0;34m=\u001b[0m \u001b[0mget_repos_with_lfs\u001b[0m\u001b[0;34m(\u001b[0m\u001b[0mheaders\u001b[0m\u001b[0;34m)\u001b[0m\u001b[0;34m\u001b[0m\u001b[0;34m\u001b[0m\u001b[0m\n\u001b[1;32m     37\u001b[0m \u001b[0;32mif\u001b[0m \u001b[0mrepos_with_lfs\u001b[0m\u001b[0;34m:\u001b[0m\u001b[0;34m\u001b[0m\u001b[0;34m\u001b[0m\u001b[0m\n\u001b[0;32m---> 38\u001b[0;31m     \u001b[0msorted_repos\u001b[0m \u001b[0;34m=\u001b[0m \u001b[0msorted\u001b[0m\u001b[0;34m(\u001b[0m\u001b[0mrepos_with_lfs\u001b[0m\u001b[0;34m,\u001b[0m \u001b[0mkey\u001b[0m\u001b[0;34m=\u001b[0m\u001b[0;32mlambda\u001b[0m \u001b[0mx\u001b[0m\u001b[0;34m:\u001b[0m \u001b[0mx\u001b[0m\u001b[0;34m[\u001b[0m\u001b[0;34m\"size\"\u001b[0m\u001b[0;34m]\u001b[0m\u001b[0;34m,\u001b[0m \u001b[0mreverse\u001b[0m\u001b[0;34m=\u001b[0m\u001b[0;32mTrue\u001b[0m\u001b[0;34m)\u001b[0m\u001b[0;34m\u001b[0m\u001b[0;34m\u001b[0m\u001b[0m\n\u001b[0m\u001b[1;32m     39\u001b[0m     \u001b[0;32mfor\u001b[0m \u001b[0mrepo\u001b[0m \u001b[0;32min\u001b[0m \u001b[0msorted_repos\u001b[0m\u001b[0;34m:\u001b[0m\u001b[0;34m\u001b[0m\u001b[0;34m\u001b[0m\u001b[0m\n\u001b[1;32m     40\u001b[0m         \u001b[0mprint\u001b[0m\u001b[0;34m(\u001b[0m\u001b[0;34mf\"Repository: {repo['name']}\\nSize: {repo['size']} KB\\n\"\u001b[0m\u001b[0;34m)\u001b[0m\u001b[0;34m\u001b[0m\u001b[0;34m\u001b[0m\u001b[0m\n",
      "\u001b[0;31mTypeError\u001b[0m: '<' not supported between instances of 'NoneType' and 'NoneType'"
     ]
    }
   ],
   "source": [
    "# get git LFS size\n",
    "import requests\n",
    "\n",
    "def get_repo_size(repo_owner, repo_name, headers):\n",
    "    url = f\"https://api.github.com/repos/{repo_owner}/{repo_name}\"\n",
    "    response = requests.get(url, headers=headers)\n",
    "    if response.status_code == 200:\n",
    "        repo_data = response.json()\n",
    "        repo_size = repo_data[\"size\"]\n",
    "        return repo_size\n",
    "    else:\n",
    "        return None\n",
    "\n",
    "from pprint import pprint\n",
    "\n",
    "\n",
    "\n",
    "repos_with_lfs = get_repos_with_lfs(headers)\n",
    "if repos_with_lfs:\n",
    "    sorted_repos = sorted(repos_with_lfs, key=lambda x: x[\"size\"], reverse=True)\n",
    "    for repo in sorted_repos:\n",
    "        print(f\"Repository: {repo['name']}\\nSize: {repo['size']} KB\\n\")\n",
    "else:\n",
    "    print(\"Error occurred while retrieving repositories.\")\n"
   ]
  }
 ],
 "metadata": {
  "kernelspec": {
   "display_name": "Python 3 (ipykernel)",
   "language": "python",
   "name": "python3"
  },
  "language_info": {
   "codemirror_mode": {
    "name": "ipython",
    "version": 3
   },
   "file_extension": ".py",
   "mimetype": "text/x-python",
   "name": "python",
   "nbconvert_exporter": "python",
   "pygments_lexer": "ipython3",
   "version": "3.8.0"
  }
 },
 "nbformat": 4,
 "nbformat_minor": 5
}
