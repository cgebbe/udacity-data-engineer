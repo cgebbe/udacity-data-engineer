{
 "cells": [
  {
   "attachments": {},
   "cell_type": "markdown",
   "metadata": {},
   "source": [
    "# Try redshift data API"
   ]
  },
  {
   "attachments": {},
   "cell_type": "markdown",
   "metadata": {},
   "source": [
    "Taken from https://github.com/aws-samples/getting-started-with-amazon-redshift-data-api/tree/main/quick-start/python"
   ]
  },
  {
   "cell_type": "code",
   "execution_count": 4,
   "metadata": {},
   "outputs": [
    {
     "name": "stderr",
     "output_type": "stream",
     "text": [
      "/mnt/sda1/projects/git/courses/udacity_data_engineer/venv/lib/python3.6/site-packages/boto3/compat.py:88: PythonDeprecationWarning: Boto3 will no longer support Python 3.6 starting May 30, 2022. To continue receiving service updates, bug fixes, and security updates please upgrade to Python 3.7 or later. More information can be found here: https://aws.amazon.com/blogs/developer/python-support-policy-updates-for-aws-sdks-and-tools/\n",
      "  warnings.warn(warning, PythonDeprecationWarning)\n"
     ]
    }
   ],
   "source": [
    "import boto3\n",
    "client = boto3.client('redshift-data')"
   ]
  },
  {
   "cell_type": "code",
   "execution_count": 5,
   "metadata": {},
   "outputs": [
    {
     "data": {
      "text/plain": [
       "'1.23.10'"
      ]
     },
     "execution_count": 5,
     "metadata": {},
     "output_type": "execute_result"
    }
   ],
   "source": [
    "# boto3 already has 1.28.8 ?! Likely requires newer python version...\n",
    "boto3.__version__"
   ]
  },
  {
   "cell_type": "code",
   "execution_count": 6,
   "metadata": {},
   "outputs": [
    {
     "ename": "ParamValidationError",
     "evalue": "Parameter validation failed:\nUnknown parameter in input: \"WorkgroupName\", must be one of: ClusterIdentifier, Database, DbUser, Parameters, SecretArn, Sql, StatementName, WithEvent",
     "output_type": "error",
     "traceback": [
      "\u001b[0;31m---------------------------------------------------------------------------\u001b[0m",
      "\u001b[0;31mParamValidationError\u001b[0m                      Traceback (most recent call last)",
      "\u001b[0;32m<ipython-input-6-83c70ecc3d5d>\u001b[0m in \u001b[0;36m<module>\u001b[0;34m\u001b[0m\n\u001b[1;32m      3\u001b[0m     \u001b[0mDatabase\u001b[0m\u001b[0;34m=\u001b[0m\u001b[0;34m\"default.561130499334.eu-central-1.redshift-serverless.amazonaws.com:5439/dev\"\u001b[0m\u001b[0;34m,\u001b[0m\u001b[0;34m\u001b[0m\u001b[0;34m\u001b[0m\u001b[0m\n\u001b[1;32m      4\u001b[0m     \u001b[0mSql\u001b[0m\u001b[0;34m=\u001b[0m\u001b[0;34m\"SELECT * FROM DummyTable\"\u001b[0m\u001b[0;34m,\u001b[0m\u001b[0;34m\u001b[0m\u001b[0;34m\u001b[0m\u001b[0m\n\u001b[0;32m----> 5\u001b[0;31m     \u001b[0mWorkgroupName\u001b[0m\u001b[0;34m=\u001b[0m\u001b[0;34m\"default\"\u001b[0m\u001b[0;34m,\u001b[0m\u001b[0;34m\u001b[0m\u001b[0;34m\u001b[0m\u001b[0m\n\u001b[0m\u001b[1;32m      6\u001b[0m )\n",
      "\u001b[0;32m/mnt/sda1/projects/git/courses/udacity_data_engineer/venv/lib/python3.6/site-packages/botocore/client.py\u001b[0m in \u001b[0;36m_api_call\u001b[0;34m(self, *args, **kwargs)\u001b[0m\n\u001b[1;32m    506\u001b[0m                 )\n\u001b[1;32m    507\u001b[0m             \u001b[0;31m# The \"self\" in this scope is referring to the BaseClient.\u001b[0m\u001b[0;34m\u001b[0m\u001b[0;34m\u001b[0m\u001b[0;34m\u001b[0m\u001b[0m\n\u001b[0;32m--> 508\u001b[0;31m             \u001b[0;32mreturn\u001b[0m \u001b[0mself\u001b[0m\u001b[0;34m.\u001b[0m\u001b[0m_make_api_call\u001b[0m\u001b[0;34m(\u001b[0m\u001b[0moperation_name\u001b[0m\u001b[0;34m,\u001b[0m \u001b[0mkwargs\u001b[0m\u001b[0;34m)\u001b[0m\u001b[0;34m\u001b[0m\u001b[0;34m\u001b[0m\u001b[0m\n\u001b[0m\u001b[1;32m    509\u001b[0m \u001b[0;34m\u001b[0m\u001b[0m\n\u001b[1;32m    510\u001b[0m         \u001b[0m_api_call\u001b[0m\u001b[0;34m.\u001b[0m\u001b[0m__name__\u001b[0m \u001b[0;34m=\u001b[0m \u001b[0mstr\u001b[0m\u001b[0;34m(\u001b[0m\u001b[0mpy_operation_name\u001b[0m\u001b[0;34m)\u001b[0m\u001b[0;34m\u001b[0m\u001b[0;34m\u001b[0m\u001b[0m\n",
      "\u001b[0;32m/mnt/sda1/projects/git/courses/udacity_data_engineer/venv/lib/python3.6/site-packages/botocore/client.py\u001b[0m in \u001b[0;36m_make_api_call\u001b[0;34m(self, operation_name, api_params)\u001b[0m\n\u001b[1;32m    873\u001b[0m         }\n\u001b[1;32m    874\u001b[0m         request_dict = self._convert_to_request_dict(\n\u001b[0;32m--> 875\u001b[0;31m             \u001b[0mapi_params\u001b[0m\u001b[0;34m,\u001b[0m \u001b[0moperation_model\u001b[0m\u001b[0;34m,\u001b[0m \u001b[0mcontext\u001b[0m\u001b[0;34m=\u001b[0m\u001b[0mrequest_context\u001b[0m\u001b[0;34m\u001b[0m\u001b[0;34m\u001b[0m\u001b[0m\n\u001b[0m\u001b[1;32m    876\u001b[0m         )\n\u001b[1;32m    877\u001b[0m         \u001b[0mresolve_checksum_context\u001b[0m\u001b[0;34m(\u001b[0m\u001b[0mrequest_dict\u001b[0m\u001b[0;34m,\u001b[0m \u001b[0moperation_model\u001b[0m\u001b[0;34m,\u001b[0m \u001b[0mapi_params\u001b[0m\u001b[0;34m)\u001b[0m\u001b[0;34m\u001b[0m\u001b[0;34m\u001b[0m\u001b[0m\n",
      "\u001b[0;32m/mnt/sda1/projects/git/courses/udacity_data_engineer/venv/lib/python3.6/site-packages/botocore/client.py\u001b[0m in \u001b[0;36m_convert_to_request_dict\u001b[0;34m(self, api_params, operation_model, context)\u001b[0m\n\u001b[1;32m    934\u001b[0m         )\n\u001b[1;32m    935\u001b[0m         request_dict = self._serializer.serialize_to_request(\n\u001b[0;32m--> 936\u001b[0;31m             \u001b[0mapi_params\u001b[0m\u001b[0;34m,\u001b[0m \u001b[0moperation_model\u001b[0m\u001b[0;34m\u001b[0m\u001b[0;34m\u001b[0m\u001b[0m\n\u001b[0m\u001b[1;32m    937\u001b[0m         )\n\u001b[1;32m    938\u001b[0m         \u001b[0;32mif\u001b[0m \u001b[0;32mnot\u001b[0m \u001b[0mself\u001b[0m\u001b[0;34m.\u001b[0m\u001b[0m_client_config\u001b[0m\u001b[0;34m.\u001b[0m\u001b[0minject_host_prefix\u001b[0m\u001b[0;34m:\u001b[0m\u001b[0;34m\u001b[0m\u001b[0;34m\u001b[0m\u001b[0m\n",
      "\u001b[0;32m/mnt/sda1/projects/git/courses/udacity_data_engineer/venv/lib/python3.6/site-packages/botocore/validate.py\u001b[0m in \u001b[0;36mserialize_to_request\u001b[0;34m(self, parameters, operation_model)\u001b[0m\n\u001b[1;32m    379\u001b[0m             )\n\u001b[1;32m    380\u001b[0m             \u001b[0;32mif\u001b[0m \u001b[0mreport\u001b[0m\u001b[0;34m.\u001b[0m\u001b[0mhas_errors\u001b[0m\u001b[0;34m(\u001b[0m\u001b[0;34m)\u001b[0m\u001b[0;34m:\u001b[0m\u001b[0;34m\u001b[0m\u001b[0;34m\u001b[0m\u001b[0m\n\u001b[0;32m--> 381\u001b[0;31m                 \u001b[0;32mraise\u001b[0m \u001b[0mParamValidationError\u001b[0m\u001b[0;34m(\u001b[0m\u001b[0mreport\u001b[0m\u001b[0;34m=\u001b[0m\u001b[0mreport\u001b[0m\u001b[0;34m.\u001b[0m\u001b[0mgenerate_report\u001b[0m\u001b[0;34m(\u001b[0m\u001b[0;34m)\u001b[0m\u001b[0;34m)\u001b[0m\u001b[0;34m\u001b[0m\u001b[0;34m\u001b[0m\u001b[0m\n\u001b[0m\u001b[1;32m    382\u001b[0m         return self._serializer.serialize_to_request(\n\u001b[1;32m    383\u001b[0m             \u001b[0mparameters\u001b[0m\u001b[0;34m,\u001b[0m \u001b[0moperation_model\u001b[0m\u001b[0;34m\u001b[0m\u001b[0;34m\u001b[0m\u001b[0m\n",
      "\u001b[0;31mParamValidationError\u001b[0m: Parameter validation failed:\nUnknown parameter in input: \"WorkgroupName\", must be one of: ClusterIdentifier, Database, DbUser, Parameters, SecretArn, Sql, StatementName, WithEvent"
     ]
    }
   ],
   "source": [
    "# see https://github.com/aws-samples/getting-started-with-amazon-redshift-data-api/blob/c9cbc96fd2997a01f30d0a07eef327a11f9ccda2/quick-start/python/RedShiftServerlessDataAPI.py#L63\n",
    "res = client.execute_statement(\n",
    "    Database=\"default.561130499334.eu-central-1.redshift-serverless.amazonaws.com:5439/dev\",\n",
    "    Sql=\"SELECT * FROM DummyTable\",\n",
    "    WorkgroupName=\"default\",\n",
    ")"
   ]
  },
  {
   "cell_type": "markdown",
   "metadata": {},
   "source": [
    "# Try psycopg2"
   ]
  },
  {
   "cell_type": "code",
   "execution_count": 8,
   "metadata": {},
   "outputs": [
    {
     "name": "stdout",
     "output_type": "stream",
     "text": [
      "(1, 'John', 30)\n"
     ]
    }
   ],
   "source": [
    "import psycopg2\n",
    "import dotenv\n",
    "import os\n",
    "\n",
    "dotenv.load_dotenv()\n",
    "\n",
    "# see also https://stackoverflow.com/q/71521678/2135504\n",
    "conn = psycopg2.connect(\n",
    "    host='default.561130499334.eu-central-1.redshift-serverless.amazonaws.com',\n",
    "    port=\"5439\",\n",
    "    user=\"awsuser\",\n",
    "    password=\"R3dsh1ft\",\n",
    "    database='dev'\n",
    ")\n",
    "\n",
    "\n",
    "cursor = conn.cursor()\n",
    "cursor.execute('SELECT * FROM DummyTable')\n",
    "result = cursor.fetchone()\n",
    "print(result)\n",
    "cursor.close()\n",
    "conn.close()\n"
   ]
  },
  {
   "attachments": {},
   "cell_type": "markdown",
   "metadata": {},
   "source": [
    "# Try redshift_connector\n",
    "\n",
    "from https://stackoverflow.com/q/71521678/2135504"
   ]
  },
  {
   "cell_type": "code",
   "execution_count": 2,
   "metadata": {},
   "outputs": [
    {
     "name": "stdout",
     "output_type": "stream",
     "text": [
      "Collecting redshift-connector\n",
      "  Downloading redshift_connector-2.0.913-py3-none-any.whl (114 kB)\n",
      "     |████████████████████████████████| 114 kB 1.4 MB/s            \n",
      "\u001b[?25hRequirement already satisfied: botocore<2.0.0,>=1.12.201 in /mnt/sda1/projects/git/courses/udacity_data_engineer/venv/lib/python3.6/site-packages (from redshift-connector) (1.26.10)\n",
      "Requirement already satisfied: requests<3.0.0,>=2.23.0 in /mnt/sda1/projects/git/courses/udacity_data_engineer/venv/lib/python3.6/site-packages (from redshift-connector) (2.27.1)\n",
      "Collecting scramp<1.5.0,>=1.2.0\n",
      "  Downloading scramp-1.4.1-py3-none-any.whl (8.5 kB)\n",
      "Collecting lxml>=4.6.5\n",
      "  Downloading lxml-4.9.3-cp36-cp36m-manylinux_2_17_x86_64.manylinux2014_x86_64.manylinux_2_24_x86_64.whl (6.5 MB)\n",
      "     |████████████████████████████████| 6.5 MB 2.0 MB/s            \n",
      "\u001b[?25hCollecting beautifulsoup4<5.0.0,>=4.7.0\n",
      "  Downloading beautifulsoup4-4.12.2-py3-none-any.whl (142 kB)\n",
      "     |████████████████████████████████| 142 kB 913 kB/s            \n",
      "\u001b[?25hCollecting packaging\n",
      "  Using cached packaging-21.3-py3-none-any.whl (40 kB)\n",
      "Collecting pytz>=2020.1\n",
      "  Using cached pytz-2023.3-py2.py3-none-any.whl (502 kB)\n",
      "Requirement already satisfied: setuptools in /mnt/sda1/projects/git/courses/udacity_data_engineer/venv/lib/python3.6/site-packages (from redshift-connector) (59.6.0)\n",
      "Requirement already satisfied: boto3<2.0.0,>=1.9.201 in /mnt/sda1/projects/git/courses/udacity_data_engineer/venv/lib/python3.6/site-packages (from redshift-connector) (1.23.10)\n",
      "Collecting soupsieve>1.2\n",
      "  Using cached soupsieve-2.3.2.post1-py3-none-any.whl (37 kB)\n",
      "Requirement already satisfied: jmespath<2.0.0,>=0.7.1 in /mnt/sda1/projects/git/courses/udacity_data_engineer/venv/lib/python3.6/site-packages (from boto3<2.0.0,>=1.9.201->redshift-connector) (0.10.0)\n",
      "Requirement already satisfied: s3transfer<0.6.0,>=0.5.0 in /mnt/sda1/projects/git/courses/udacity_data_engineer/venv/lib/python3.6/site-packages (from boto3<2.0.0,>=1.9.201->redshift-connector) (0.5.2)\n",
      "Requirement already satisfied: python-dateutil<3.0.0,>=2.1 in /mnt/sda1/projects/git/courses/udacity_data_engineer/venv/lib/python3.6/site-packages (from botocore<2.0.0,>=1.12.201->redshift-connector) (2.8.2)\n",
      "Requirement already satisfied: urllib3<1.27,>=1.25.4 in /mnt/sda1/projects/git/courses/udacity_data_engineer/venv/lib/python3.6/site-packages (from botocore<2.0.0,>=1.12.201->redshift-connector) (1.26.16)\n",
      "Requirement already satisfied: idna<4,>=2.5 in /mnt/sda1/projects/git/courses/udacity_data_engineer/venv/lib/python3.6/site-packages (from requests<3.0.0,>=2.23.0->redshift-connector) (3.4)\n",
      "Requirement already satisfied: charset-normalizer~=2.0.0 in /mnt/sda1/projects/git/courses/udacity_data_engineer/venv/lib/python3.6/site-packages (from requests<3.0.0,>=2.23.0->redshift-connector) (2.0.12)\n",
      "Requirement already satisfied: certifi>=2017.4.17 in /mnt/sda1/projects/git/courses/udacity_data_engineer/venv/lib/python3.6/site-packages (from requests<3.0.0,>=2.23.0->redshift-connector) (2023.5.7)\n",
      "Collecting asn1crypto>=1.4.0\n",
      "  Downloading asn1crypto-1.5.1-py2.py3-none-any.whl (105 kB)\n",
      "     |████████████████████████████████| 105 kB 3.4 MB/s            \n",
      "\u001b[?25hCollecting pyparsing!=3.0.5,>=2.0.2\n",
      "  Downloading pyparsing-3.1.0-py3-none-any.whl (102 kB)\n",
      "     |████████████████████████████████| 102 kB 2.6 MB/s            \n",
      "\u001b[?25hRequirement already satisfied: six>=1.5 in /mnt/sda1/projects/git/courses/udacity_data_engineer/venv/lib/python3.6/site-packages (from python-dateutil<3.0.0,>=2.1->botocore<2.0.0,>=1.12.201->redshift-connector) (1.16.0)\n",
      "Installing collected packages: soupsieve, pyparsing, asn1crypto, scramp, pytz, packaging, lxml, beautifulsoup4, redshift-connector\n",
      "Successfully installed asn1crypto-1.5.1 beautifulsoup4-4.12.2 lxml-4.9.3 packaging-21.3 pyparsing-3.1.0 pytz-2023.3 redshift-connector-2.0.913 scramp-1.4.1 soupsieve-2.3.2.post1\n"
     ]
    }
   ],
   "source": [
    "!pip install redshift-connector"
   ]
  },
  {
   "cell_type": "code",
   "execution_count": null,
   "metadata": {},
   "outputs": [],
   "source": []
  }
 ],
 "metadata": {
  "kernelspec": {
   "display_name": "venv",
   "language": "python",
   "name": "python3"
  },
  "language_info": {
   "codemirror_mode": {
    "name": "ipython",
    "version": 3
   },
   "file_extension": ".py",
   "mimetype": "text/x-python",
   "name": "python",
   "nbconvert_exporter": "python",
   "pygments_lexer": "ipython3",
   "version": "3.6.9"
  },
  "orig_nbformat": 4
 },
 "nbformat": 4,
 "nbformat_minor": 2
}
