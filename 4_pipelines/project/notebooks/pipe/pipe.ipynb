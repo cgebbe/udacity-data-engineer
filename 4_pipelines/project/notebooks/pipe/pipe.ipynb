{
 "cells": [
  {
   "cell_type": "code",
   "execution_count": 1,
   "metadata": {},
   "outputs": [],
   "source": [
    "%load_ext autoreload\n",
    "%autoreload 2"
   ]
  },
  {
   "cell_type": "markdown",
   "metadata": {},
   "source": [
    "# Test connection"
   ]
  },
  {
   "cell_type": "code",
   "execution_count": 2,
   "metadata": {},
   "outputs": [],
   "source": [
    "# setup logger\n",
    "from loguru import logger"
   ]
  },
  {
   "cell_type": "code",
   "execution_count": 3,
   "metadata": {},
   "outputs": [],
   "source": [
    "import psycopg2\n",
    "conn = psycopg2.connect(\n",
    "    host='default.561130499334.eu-central-1.redshift-serverless.amazonaws.com',\n",
    "    port=\"5439\",\n",
    "    user=\"awsuser\",\n",
    "    password=\"R3dsh1ft\",\n",
    "    database='dev'\n",
    ")\n",
    "cursor = conn.cursor()\n",
    "conn.autocommit = True  # do not need commit then"
   ]
  },
  {
   "cell_type": "code",
   "execution_count": 4,
   "metadata": {},
   "outputs": [
    {
     "name": "stderr",
     "output_type": "stream",
     "text": [
      "\u001b[32m2023-08-04 00:27:49.686\u001b[0m | \u001b[1mINFO    \u001b[0m | \u001b[36m__main__\u001b[0m:\u001b[36mrun\u001b[0m:\u001b[36m6\u001b[0m - \u001b[1mRunning\n",
      " SELECT * FROM DummyTable;\u001b[0m\n",
      "\u001b[32m2023-08-04 00:27:49.713\u001b[0m | \u001b[32m\u001b[1mSUCCESS \u001b[0m | \u001b[36m__main__\u001b[0m:\u001b[36mrun\u001b[0m:\u001b[36m12\u001b[0m - \u001b[32m\u001b[1m[{'age': 30, 'id': 1, 'name': 'John'},\n",
      " {'age': 25, 'id': 2, 'name': 'Jane'},\n",
      " {'age': 40, 'id': 3, 'name': 'Mike'}]\u001b[0m\n"
     ]
    }
   ],
   "source": [
    "from pprint import pformat\n",
    "\n",
    "def run(query: str):\n",
    "    q = query.strip()\n",
    "    assert q.endswith(\";\")\n",
    "    logger.info(f\"Running\\n {q}\")\n",
    "    cursor.execute(q)\n",
    "    try:\n",
    "        result = cursor.fetchall()\n",
    "        column_names = [desc[0] for desc in cursor.description]\n",
    "        rows = [dict(zip(column_names, row)) for row in result]\n",
    "        logger.success(f\"{pformat(rows)}\")\n",
    "    except psycopg2.ProgrammingError as e:\n",
    "        if \"no results to fetch\" in str(e):\n",
    "            logger.success(\"No results to fetch\")\n",
    "        else:\n",
    "            logger.exception(e)\n",
    "            conn.rollback()\n",
    "            raise e\n",
    "    # conn.commit() # not necessary with autocommit\n",
    "\n",
    "\n",
    "run('SELECT * FROM DummyTable;')"
   ]
  },
  {
   "cell_type": "code",
   "execution_count": null,
   "metadata": {},
   "outputs": [],
   "source": [
    "# if necessary: close connection\n",
    "cursor.close()\n",
    "conn.close()"
   ]
  },
  {
   "cell_type": "markdown",
   "metadata": {},
   "source": [
    "# Try to diagnose errors and events"
   ]
  },
  {
   "cell_type": "code",
   "execution_count": 18,
   "metadata": {},
   "outputs": [
    {
     "name": "stderr",
     "output_type": "stream",
     "text": [
      "\u001b[32m2023-08-04 00:33:30.647\u001b[0m | \u001b[1mINFO    \u001b[0m | \u001b[36m__main__\u001b[0m:\u001b[36mrun\u001b[0m:\u001b[36m6\u001b[0m - \u001b[1mRunning\n",
      " SELECT * FROM SVL_QLOG LIMIT 3;\u001b[0m\n"
     ]
    },
    {
     "ename": "InsufficientPrivilege",
     "evalue": "permission denied for relation svl_qlog\n",
     "output_type": "error",
     "traceback": [
      "\u001b[0;31m---------------------------------------------------------------------------\u001b[0m",
      "\u001b[0;31mInsufficientPrivilege\u001b[0m                     Traceback (most recent call last)",
      "\u001b[0;32m<ipython-input-18-47c0cf811e53>\u001b[0m in \u001b[0;36m<module>\u001b[0;34m\u001b[0m\n\u001b[1;32m      7\u001b[0m \u001b[0;31m# s=\"GRANT ALL PRIVILEGES on all tables in schema public to awsuser;\"\u001b[0m\u001b[0;34m\u001b[0m\u001b[0;34m\u001b[0m\u001b[0;34m\u001b[0m\u001b[0m\n\u001b[1;32m      8\u001b[0m \u001b[0ms\u001b[0m\u001b[0;34m=\u001b[0m\u001b[0;34m\"SELECT * FROM SVL_QLOG LIMIT 3;\"\u001b[0m\u001b[0;34m\u001b[0m\u001b[0;34m\u001b[0m\u001b[0m\n\u001b[0;32m----> 9\u001b[0;31m \u001b[0mrun\u001b[0m\u001b[0;34m(\u001b[0m\u001b[0ms\u001b[0m\u001b[0;34m)\u001b[0m\u001b[0;34m\u001b[0m\u001b[0;34m\u001b[0m\u001b[0m\n\u001b[0m",
      "\u001b[0;32m<ipython-input-4-f70b369d738b>\u001b[0m in \u001b[0;36mrun\u001b[0;34m(query)\u001b[0m\n\u001b[1;32m      5\u001b[0m     \u001b[0;32massert\u001b[0m \u001b[0mq\u001b[0m\u001b[0;34m.\u001b[0m\u001b[0mendswith\u001b[0m\u001b[0;34m(\u001b[0m\u001b[0;34m\";\"\u001b[0m\u001b[0;34m)\u001b[0m\u001b[0;34m\u001b[0m\u001b[0;34m\u001b[0m\u001b[0m\n\u001b[1;32m      6\u001b[0m     \u001b[0mlogger\u001b[0m\u001b[0;34m.\u001b[0m\u001b[0minfo\u001b[0m\u001b[0;34m(\u001b[0m\u001b[0;34mf\"Running\\n {q}\"\u001b[0m\u001b[0;34m)\u001b[0m\u001b[0;34m\u001b[0m\u001b[0;34m\u001b[0m\u001b[0m\n\u001b[0;32m----> 7\u001b[0;31m     \u001b[0mcursor\u001b[0m\u001b[0;34m.\u001b[0m\u001b[0mexecute\u001b[0m\u001b[0;34m(\u001b[0m\u001b[0mq\u001b[0m\u001b[0;34m)\u001b[0m\u001b[0;34m\u001b[0m\u001b[0;34m\u001b[0m\u001b[0m\n\u001b[0m\u001b[1;32m      8\u001b[0m     \u001b[0;32mtry\u001b[0m\u001b[0;34m:\u001b[0m\u001b[0;34m\u001b[0m\u001b[0;34m\u001b[0m\u001b[0m\n\u001b[1;32m      9\u001b[0m         \u001b[0mresult\u001b[0m \u001b[0;34m=\u001b[0m \u001b[0mcursor\u001b[0m\u001b[0;34m.\u001b[0m\u001b[0mfetchall\u001b[0m\u001b[0;34m(\u001b[0m\u001b[0;34m)\u001b[0m\u001b[0;34m\u001b[0m\u001b[0;34m\u001b[0m\u001b[0m\n",
      "\u001b[0;31mInsufficientPrivilege\u001b[0m: permission denied for relation svl_qlog\n"
     ]
    }
   ],
   "source": [
    "# s=\"\"\"SELECT * FROM SVL_QLOG LIMIT 3;\"\"\"\n",
    "# -- grant select on svv_redshift_databases to awsuser;\n",
    "# -- grant select on svv_all_schemas to awsuser;\n",
    "# -- grant select on svv_all_tables to awsuser;\n",
    "# grant select on stv_recents to awsuser\n",
    "\n",
    "# s=\"GRANT ALL PRIVILEGES on all tables in schema public to awsuser;\"\n",
    "s=\"SELECT * FROM SVL_QLOG LIMIT 3;\"\n",
    "run(s)"
   ]
  },
  {
   "cell_type": "markdown",
   "metadata": {},
   "source": [
    "# Using my original SQL statements"
   ]
  },
  {
   "attachments": {},
   "cell_type": "markdown",
   "metadata": {},
   "source": [
    "## Create tables"
   ]
  },
  {
   "cell_type": "code",
   "execution_count": 8,
   "metadata": {},
   "outputs": [],
   "source": [
    "from old import sql_queries"
   ]
  },
  {
   "cell_type": "code",
   "execution_count": 25,
   "metadata": {},
   "outputs": [
    {
     "name": "stdout",
     "output_type": "stream",
     "text": [
      "\u001b[32m2023-07-24 20:04:44.216\u001b[0m | \u001b[1mINFO    \u001b[0m | \u001b[36m__main__\u001b[0m:\u001b[36mrun\u001b[0m:\u001b[36m7\u001b[0m - \u001b[1mRunning\n",
      " DROP TABLE IF EXISTS event_stage_table;\u001b[0m\n",
      "\u001b[32m2023-07-24 20:04:44.272\u001b[0m | \u001b[32m\u001b[1mSUCCESS \u001b[0m | \u001b[36m__main__\u001b[0m:\u001b[36mrun\u001b[0m:\u001b[36m16\u001b[0m - \u001b[32m\u001b[1mNo results to fetch\u001b[0m\n",
      "\u001b[32m2023-07-24 20:04:45.409\u001b[0m | \u001b[1mINFO    \u001b[0m | \u001b[36m__main__\u001b[0m:\u001b[36mrun\u001b[0m:\u001b[36m7\u001b[0m - \u001b[1mRunning\n",
      " DROP TABLE IF EXISTS song_stage_table;\u001b[0m\n",
      "\u001b[32m2023-07-24 20:04:45.477\u001b[0m | \u001b[32m\u001b[1mSUCCESS \u001b[0m | \u001b[36m__main__\u001b[0m:\u001b[36mrun\u001b[0m:\u001b[36m16\u001b[0m - \u001b[32m\u001b[1mNo results to fetch\u001b[0m\n",
      "\u001b[32m2023-07-24 20:04:46.745\u001b[0m | \u001b[1mINFO    \u001b[0m | \u001b[36m__main__\u001b[0m:\u001b[36mrun\u001b[0m:\u001b[36m7\u001b[0m - \u001b[1mRunning\n",
      " DROP TABLE IF EXISTS songplays;\u001b[0m\n",
      "\u001b[32m2023-07-24 20:04:46.796\u001b[0m | \u001b[32m\u001b[1mSUCCESS \u001b[0m | \u001b[36m__main__\u001b[0m:\u001b[36mrun\u001b[0m:\u001b[36m16\u001b[0m - \u001b[32m\u001b[1mNo results to fetch\u001b[0m\n",
      "\u001b[32m2023-07-24 20:04:46.832\u001b[0m | \u001b[1mINFO    \u001b[0m | \u001b[36m__main__\u001b[0m:\u001b[36mrun\u001b[0m:\u001b[36m7\u001b[0m - \u001b[1mRunning\n",
      " DROP TABLE IF EXISTS songs;\u001b[0m\n",
      "\u001b[32m2023-07-24 20:04:46.879\u001b[0m | \u001b[32m\u001b[1mSUCCESS \u001b[0m | \u001b[36m__main__\u001b[0m:\u001b[36mrun\u001b[0m:\u001b[36m16\u001b[0m - \u001b[32m\u001b[1mNo results to fetch\u001b[0m\n",
      "\u001b[32m2023-07-24 20:04:46.909\u001b[0m | \u001b[1mINFO    \u001b[0m | \u001b[36m__main__\u001b[0m:\u001b[36mrun\u001b[0m:\u001b[36m7\u001b[0m - \u001b[1mRunning\n",
      " DROP TABLE IF EXISTS users;\u001b[0m\n",
      "\u001b[32m2023-07-24 20:04:46.961\u001b[0m | \u001b[32m\u001b[1mSUCCESS \u001b[0m | \u001b[36m__main__\u001b[0m:\u001b[36mrun\u001b[0m:\u001b[36m16\u001b[0m - \u001b[32m\u001b[1mNo results to fetch\u001b[0m\n",
      "\u001b[32m2023-07-24 20:04:46.993\u001b[0m | \u001b[1mINFO    \u001b[0m | \u001b[36m__main__\u001b[0m:\u001b[36mrun\u001b[0m:\u001b[36m7\u001b[0m - \u001b[1mRunning\n",
      " DROP TABLE IF EXISTS artists;\u001b[0m\n",
      "\u001b[32m2023-07-24 20:04:47.058\u001b[0m | \u001b[32m\u001b[1mSUCCESS \u001b[0m | \u001b[36m__main__\u001b[0m:\u001b[36mrun\u001b[0m:\u001b[36m16\u001b[0m - \u001b[32m\u001b[1mNo results to fetch\u001b[0m\n",
      "\u001b[32m2023-07-24 20:04:47.090\u001b[0m | \u001b[1mINFO    \u001b[0m | \u001b[36m__main__\u001b[0m:\u001b[36mrun\u001b[0m:\u001b[36m7\u001b[0m - \u001b[1mRunning\n",
      " DROP TABLE IF EXISTS time;\u001b[0m\n",
      "\u001b[32m2023-07-24 20:04:47.145\u001b[0m | \u001b[32m\u001b[1mSUCCESS \u001b[0m | \u001b[36m__main__\u001b[0m:\u001b[36mrun\u001b[0m:\u001b[36m16\u001b[0m - \u001b[32m\u001b[1mNo results to fetch\u001b[0m\n"
     ]
    }
   ],
   "source": [
    "for q in sql_queries.drop_table_queries:\n",
    "    run(q)"
   ]
  },
  {
   "cell_type": "code",
   "execution_count": 15,
   "metadata": {},
   "outputs": [
    {
     "name": "stdout",
     "output_type": "stream",
     "text": [
      "\u001b[32m2023-07-24 19:34:57.312\u001b[0m | \u001b[1mINFO    \u001b[0m | \u001b[36m__main__\u001b[0m:\u001b[36mrun\u001b[0m:\u001b[36m5\u001b[0m - \u001b[1mRunning\n",
      " CREATE TABLE event_stage_table (\n",
      "    artist VARCHAR(255),\n",
      "    auth VARCHAR(255),\n",
      "    firstName VARCHAR(255),\n",
      "    gender CHAR(1),\n",
      "    itemInSession SMALLINT,\n",
      "    lastName VARCHAR(255),\n",
      "    length FLOAT,\n",
      "    level VARCHAR(50),\n",
      "    location VARCHAR(255),\n",
      "    method VARCHAR(10),\n",
      "    page VARCHAR(50),\n",
      "    registration BIGINT,\n",
      "    sessionId INTEGER,\n",
      "    song VARCHAR(255),\n",
      "    status SMALLINT,\n",
      "    ts BIGINT,\n",
      "    userAgent VARCHAR(255),\n",
      "    userId INTEGER\n",
      ");\u001b[0m\n",
      "\u001b[32m2023-07-24 19:34:57.375\u001b[0m | \u001b[32m\u001b[1mSUCCESS \u001b[0m | \u001b[36m__main__\u001b[0m:\u001b[36mrun\u001b[0m:\u001b[36m12\u001b[0m - \u001b[32m\u001b[1mNo results to fetch\u001b[0m\n",
      "\u001b[32m2023-07-24 19:34:58.497\u001b[0m | \u001b[1mINFO    \u001b[0m | \u001b[36m__main__\u001b[0m:\u001b[36mrun\u001b[0m:\u001b[36m5\u001b[0m - \u001b[1mRunning\n",
      " CREATE TABLE song_stage_table (\n",
      "    artist_id VARCHAR(50),\n",
      "    artist_latitude FLOAT,\n",
      "    artist_location VARCHAR(500),\n",
      "    artist_longitude FLOAT,\n",
      "    artist_name VARCHAR(500),\n",
      "    duration FLOAT,\n",
      "    num_songs INT,\n",
      "    song_id VARCHAR(50),\n",
      "    title VARCHAR(500),\n",
      "    year INT\n",
      ");\u001b[0m\n",
      "\u001b[32m2023-07-24 19:34:58.578\u001b[0m | \u001b[32m\u001b[1mSUCCESS \u001b[0m | \u001b[36m__main__\u001b[0m:\u001b[36mrun\u001b[0m:\u001b[36m12\u001b[0m - \u001b[32m\u001b[1mNo results to fetch\u001b[0m\n",
      "\u001b[32m2023-07-24 19:34:59.415\u001b[0m | \u001b[1mINFO    \u001b[0m | \u001b[36m__main__\u001b[0m:\u001b[36mrun\u001b[0m:\u001b[36m5\u001b[0m - \u001b[1mRunning\n",
      " CREATE TABLE users (\n",
      "    user_id INT PRIMARY KEY,\n",
      "    first_name VARCHAR(128) NOT NULL,\n",
      "    last_name VARCHAR(128) NOT NULL,\n",
      "    gender CHAR(1) NOT NULL,\n",
      "    level VARCHAR(10) NOT NULL\n",
      ");\u001b[0m\n",
      "\u001b[32m2023-07-24 19:34:59.484\u001b[0m | \u001b[32m\u001b[1mSUCCESS \u001b[0m | \u001b[36m__main__\u001b[0m:\u001b[36mrun\u001b[0m:\u001b[36m12\u001b[0m - \u001b[32m\u001b[1mNo results to fetch\u001b[0m\n",
      "\u001b[32m2023-07-24 19:35:00.518\u001b[0m | \u001b[1mINFO    \u001b[0m | \u001b[36m__main__\u001b[0m:\u001b[36mrun\u001b[0m:\u001b[36m5\u001b[0m - \u001b[1mRunning\n",
      " CREATE TABLE artists (\n",
      "    artist_id VARCHAR(20) PRIMARY KEY,\n",
      "    name VARCHAR(256) NOT NULL,\n",
      "    location VARCHAR(256),\n",
      "    latitude DECIMAL(9,6),\n",
      "    longitude DECIMAL(9,6)\n",
      ");\u001b[0m\n",
      "\u001b[32m2023-07-24 19:35:00.576\u001b[0m | \u001b[32m\u001b[1mSUCCESS \u001b[0m | \u001b[36m__main__\u001b[0m:\u001b[36mrun\u001b[0m:\u001b[36m12\u001b[0m - \u001b[32m\u001b[1mNo results to fetch\u001b[0m\n",
      "\u001b[32m2023-07-24 19:35:01.537\u001b[0m | \u001b[1mINFO    \u001b[0m | \u001b[36m__main__\u001b[0m:\u001b[36mrun\u001b[0m:\u001b[36m5\u001b[0m - \u001b[1mRunning\n",
      " CREATE TABLE time (\n",
      "    start_time TIMESTAMP PRIMARY KEY,\n",
      "    hour INT NOT NULL,\n",
      "    day INT NOT NULL,\n",
      "    week INT NOT NULL,\n",
      "    month INT NOT NULL,\n",
      "    year INT NOT NULL,\n",
      "    weekday INT NOT NULL\n",
      ");\u001b[0m\n",
      "\u001b[32m2023-07-24 19:35:01.603\u001b[0m | \u001b[32m\u001b[1mSUCCESS \u001b[0m | \u001b[36m__main__\u001b[0m:\u001b[36mrun\u001b[0m:\u001b[36m12\u001b[0m - \u001b[32m\u001b[1mNo results to fetch\u001b[0m\n",
      "\u001b[32m2023-07-24 19:35:02.688\u001b[0m | \u001b[1mINFO    \u001b[0m | \u001b[36m__main__\u001b[0m:\u001b[36mrun\u001b[0m:\u001b[36m5\u001b[0m - \u001b[1mRunning\n",
      " CREATE TABLE songs (\n",
      "    song_id VARCHAR(20) PRIMARY KEY,\n",
      "    title VARCHAR(256) NOT NULL,\n",
      "    artist_id VARCHAR(20) NOT NULL REFERENCES artists(artist_id),\n",
      "    year INT NOT NULL,\n",
      "    duration DECIMAL(10,5) NOT NULL\n",
      ");\u001b[0m\n",
      "\u001b[32m2023-07-24 19:35:02.746\u001b[0m | \u001b[32m\u001b[1mSUCCESS \u001b[0m | \u001b[36m__main__\u001b[0m:\u001b[36mrun\u001b[0m:\u001b[36m12\u001b[0m - \u001b[32m\u001b[1mNo results to fetch\u001b[0m\n",
      "\u001b[32m2023-07-24 19:35:03.609\u001b[0m | \u001b[1mINFO    \u001b[0m | \u001b[36m__main__\u001b[0m:\u001b[36mrun\u001b[0m:\u001b[36m5\u001b[0m - \u001b[1mRunning\n",
      " CREATE TABLE songplays (\n",
      "    songplay_id INT IDENTITY(0,1) PRIMARY KEY,\n",
      "    start_time TIMESTAMP NOT NULL,\n",
      "    user_id INT NOT NULL REFERENCES users(user_id),\n",
      "    level VARCHAR(10) NOT NULL,\n",
      "    song_id VARCHAR(20) NOT NULL REFERENCES songs(song_id),\n",
      "    artist_id VARCHAR(20) NOT NULL REFERENCES artists(artist_id),\n",
      "    session_id INT NOT NULL,\n",
      "    location VARCHAR(256),\n",
      "    user_agent VARCHAR(512)\n",
      ");\u001b[0m\n",
      "\u001b[32m2023-07-24 19:35:03.681\u001b[0m | \u001b[32m\u001b[1mSUCCESS \u001b[0m | \u001b[36m__main__\u001b[0m:\u001b[36mrun\u001b[0m:\u001b[36m12\u001b[0m - \u001b[32m\u001b[1mNo results to fetch\u001b[0m\n"
     ]
    }
   ],
   "source": [
    "for q in sql_queries.create_table_queries:\n",
    "    run(q)"
   ]
  },
  {
   "attachments": {},
   "cell_type": "markdown",
   "metadata": {},
   "source": [
    "## Load tables into staging"
   ]
  },
  {
   "cell_type": "code",
   "execution_count": 16,
   "metadata": {},
   "outputs": [
    {
     "name": "stdout",
     "output_type": "stream",
     "text": [
      "\u001b[32m2023-07-24 19:35:36.050\u001b[0m | \u001b[1mINFO    \u001b[0m | \u001b[36m__main__\u001b[0m:\u001b[36mrun\u001b[0m:\u001b[36m5\u001b[0m - \u001b[1mRunning\n",
      " COPY event_stage_table\n",
      "FROM 's3://udacity-dataengineer-pipeline-project-s3/log_data'\n",
      "IAM_ROLE 'arn:aws:iam::561130499334:role/my-redshift-service-role'\n",
      "--JSON 'auto' -- doesn't work, because keys don't match perfectly\n",
      "JSON 's3://udacity-dataengineer-pipeline-project-s3/log_json_path.json'\n",
      "STATUPDATE ON\n",
      "MAXERROR 1\n",
      "COMPUPDATE OFF;\u001b[0m\n",
      "\u001b[32m2023-07-24 19:35:39.232\u001b[0m | \u001b[32m\u001b[1mSUCCESS \u001b[0m | \u001b[36m__main__\u001b[0m:\u001b[36mrun\u001b[0m:\u001b[36m12\u001b[0m - \u001b[32m\u001b[1mNo results to fetch\u001b[0m\n",
      "\u001b[32m2023-07-24 19:35:40.173\u001b[0m | \u001b[1mINFO    \u001b[0m | \u001b[36m__main__\u001b[0m:\u001b[36mrun\u001b[0m:\u001b[36m5\u001b[0m - \u001b[1mRunning\n",
      " COPY song_stage_table\n",
      "FROM 's3://udacity-dataengineer-pipeline-project-s3/song_data/A/A/A/' -- use subset\n",
      "-- FROM 's3://udacity-dataengineer-pipeline-project-s3/song_data/'\n",
      "IAM_ROLE 'arn:aws:iam::561130499334:role/my-redshift-service-role'\n",
      "JSON 'auto'\n",
      "STATUPDATE ON\n",
      "MAXERROR 1\n",
      "COMPUPDATE OFF;\u001b[0m\n",
      "\u001b[32m2023-07-24 19:35:56.463\u001b[0m | \u001b[32m\u001b[1mSUCCESS \u001b[0m | \u001b[36m__main__\u001b[0m:\u001b[36mrun\u001b[0m:\u001b[36m12\u001b[0m - \u001b[32m\u001b[1mNo results to fetch\u001b[0m\n"
     ]
    }
   ],
   "source": [
    "for q in sql_queries.copy_table_queries:\n",
    "    run(q)"
   ]
  },
  {
   "cell_type": "code",
   "execution_count": 19,
   "metadata": {},
   "outputs": [
    {
     "name": "stdout",
     "output_type": "stream",
     "text": [
      "\u001b[32m2023-07-24 19:42:04.985\u001b[0m | \u001b[1mINFO    \u001b[0m | \u001b[36m__main__\u001b[0m:\u001b[36mrun\u001b[0m:\u001b[36m5\u001b[0m - \u001b[1mRunning\n",
      " SELECT * FROM event_stage_table LIMIT 3;\u001b[0m\n",
      "\u001b[32m2023-07-24 19:42:05.044\u001b[0m | \u001b[32m\u001b[1mSUCCESS \u001b[0m | \u001b[36m__main__\u001b[0m:\u001b[36mrun\u001b[0m:\u001b[36m11\u001b[0m - \u001b[32m\u001b[1m[{'artist': 'Dee Dee Bridgewater',\n",
      "  'auth': 'Logged In',\n",
      "  'firstname': 'Lily',\n",
      "  'gender': 'F',\n",
      "  'iteminsession': 38,\n",
      "  'lastname': 'Koch',\n",
      "  'length': 318.64118,\n",
      "  'level': 'paid',\n",
      "  'location': 'Chicago-Naperville-Elgin, IL-IN-WI',\n",
      "  'method': 'PUT',\n",
      "  'page': 'NextSong',\n",
      "  'registration': 1541048010796,\n",
      "  'sessionid': 818,\n",
      "  'song': 'La Vie En Rose',\n",
      "  'status': 200,\n",
      "  'ts': 1542845032796,\n",
      "  'useragent': '\"Mozilla/5.0 (X11; Linux x86_64) AppleWebKit/537.36 (KHTML, '\n",
      "               'like Gecko) Ubuntu Chromium/36.0.1985.125 Chrome/36.0.1985.125 '\n",
      "               'Safari/537.36\"',\n",
      "  'userid': 15},\n",
      " {'artist': \"Tim O'brien\",\n",
      "  'auth': 'Logged In',\n",
      "  'firstname': 'Lily',\n",
      "  'gender': 'F',\n",
      "  'iteminsession': 39,\n",
      "  'lastname': 'Koch',\n",
      "  'length': 176.14322,\n",
      "  'level': 'paid',\n",
      "  'location': 'Chicago-Naperville-Elgin, IL-IN-WI',\n",
      "  'method': 'PUT',\n",
      "  'page': 'NextSong',\n",
      "  'registration': 1541048010796,\n",
      "  'sessionid': 818,\n",
      "  'song': 'Think About Last Night',\n",
      "  'status': 200,\n",
      "  'ts': 1542845350796,\n",
      "  'useragent': '\"Mozilla/5.0 (X11; Linux x86_64) AppleWebKit/537.36 (KHTML, '\n",
      "               'like Gecko) Ubuntu Chromium/36.0.1985.125 Chrome/36.0.1985.125 '\n",
      "               'Safari/537.36\"',\n",
      "  'userid': 15},\n",
      " {'artist': 'Nirvana',\n",
      "  'auth': 'Logged In',\n",
      "  'firstname': 'Lily',\n",
      "  'gender': 'F',\n",
      "  'iteminsession': 40,\n",
      "  'lastname': 'Koch',\n",
      "  'length': 215.11791,\n",
      "  'level': 'paid',\n",
      "  'location': 'Chicago-Naperville-Elgin, IL-IN-WI',\n",
      "  'method': 'PUT',\n",
      "  'page': 'NextSong',\n",
      "  'registration': 1541048010796,\n",
      "  'sessionid': 818,\n",
      "  'song': 'Love Buzz',\n",
      "  'status': 200,\n",
      "  'ts': 1542845526796,\n",
      "  'useragent': '\"Mozilla/5.0 (X11; Linux x86_64) AppleWebKit/537.36 (KHTML, '\n",
      "               'like Gecko) Ubuntu Chromium/36.0.1985.125 Chrome/36.0.1985.125 '\n",
      "               'Safari/537.36\"',\n",
      "  'userid': 15}]\u001b[0m\n",
      "\u001b[32m2023-07-24 19:42:05.069\u001b[0m | \u001b[1mINFO    \u001b[0m | \u001b[36m__main__\u001b[0m:\u001b[36mrun\u001b[0m:\u001b[36m5\u001b[0m - \u001b[1mRunning\n",
      " SELECT * FROM song_stage_table LIMIT 3;\u001b[0m\n",
      "\u001b[32m2023-07-24 19:42:05.125\u001b[0m | \u001b[32m\u001b[1mSUCCESS \u001b[0m | \u001b[36m__main__\u001b[0m:\u001b[36mrun\u001b[0m:\u001b[36m11\u001b[0m - \u001b[32m\u001b[1m[{'artist_id': 'AR73AIO1187B9AD57B',\n",
      "  'artist_latitude': 37.77916,\n",
      "  'artist_location': 'San Francisco, CA',\n",
      "  'artist_longitude': -122.42005,\n",
      "  'artist_name': 'Western Addiction',\n",
      "  'duration': 118.07302,\n",
      "  'num_songs': 1,\n",
      "  'song_id': 'SOQPWCR12A6D4FB2A3',\n",
      "  'title': 'A Poor Recipe For Civic Cohesion',\n",
      "  'year': 2005},\n",
      " {'artist_id': 'ARXQBR11187B98A2CC',\n",
      "  'artist_latitude': None,\n",
      "  'artist_location': 'Liverpool, England',\n",
      "  'artist_longitude': None,\n",
      "  'artist_name': 'Frankie Goes To Hollywood',\n",
      "  'duration': 821.05424,\n",
      "  'num_songs': 1,\n",
      "  'song_id': 'SOBRKGM12A8C139EF6',\n",
      "  'title': 'Welcome to the Pleasuredome',\n",
      "  'year': 1985},\n",
      " {'artist_id': 'ARTC1LV1187B9A4858',\n",
      "  'artist_latitude': 51.4536,\n",
      "  'artist_location': \"Goldsmith's College, Lewisham, Lo\",\n",
      "  'artist_longitude': -0.01802,\n",
      "  'artist_name': 'The Bonzo Dog Band',\n",
      "  'duration': 301.40036,\n",
      "  'num_songs': 1,\n",
      "  'song_id': 'SOAFBCP12A8C13CC7D',\n",
      "  'title': 'King Of Scurf (2007 Digital Remaster)',\n",
      "  'year': 1972}]\u001b[0m\n"
     ]
    }
   ],
   "source": [
    "import utils\n",
    "for t in [\"event_stage_table\", \"song_stage_table\"]:\n",
    "    run(utils.get_list_query(t))"
   ]
  },
  {
   "attachments": {},
   "cell_type": "markdown",
   "metadata": {},
   "source": [
    "## Insert data"
   ]
  },
  {
   "cell_type": "code",
   "execution_count": 20,
   "metadata": {},
   "outputs": [
    {
     "name": "stdout",
     "output_type": "stream",
     "text": [
      "\u001b[32m2023-07-24 19:44:54.587\u001b[0m | \u001b[1mINFO    \u001b[0m | \u001b[36m__main__\u001b[0m:\u001b[36mrun\u001b[0m:\u001b[36m5\u001b[0m - \u001b[1mRunning\n",
      " INSERT INTO users (user_id, first_name, last_name, gender, level)\n",
      "SELECT DISTINCT userId, firstName, lastName, gender, level\n",
      "FROM event_stage_table\n",
      "WHERE userId IS NOT NULL;\u001b[0m\n",
      "\u001b[32m2023-07-24 19:45:03.167\u001b[0m | \u001b[32m\u001b[1mSUCCESS \u001b[0m | \u001b[36m__main__\u001b[0m:\u001b[36mrun\u001b[0m:\u001b[36m14\u001b[0m - \u001b[32m\u001b[1mNo results to fetch\u001b[0m\n",
      "\u001b[32m2023-07-24 19:45:04.444\u001b[0m | \u001b[1mINFO    \u001b[0m | \u001b[36m__main__\u001b[0m:\u001b[36mrun\u001b[0m:\u001b[36m5\u001b[0m - \u001b[1mRunning\n",
      " INSERT INTO artists (artist_id, name, location, latitude, longitude)\n",
      "SELECT DISTINCT artist_id, artist_name, artist_location, artist_latitude, artist_longitude\n",
      "FROM song_stage_table;\u001b[0m\n",
      "\u001b[32m2023-07-24 19:45:13.002\u001b[0m | \u001b[32m\u001b[1mSUCCESS \u001b[0m | \u001b[36m__main__\u001b[0m:\u001b[36mrun\u001b[0m:\u001b[36m14\u001b[0m - \u001b[32m\u001b[1mNo results to fetch\u001b[0m\n",
      "\u001b[32m2023-07-24 19:45:14.131\u001b[0m | \u001b[1mINFO    \u001b[0m | \u001b[36m__main__\u001b[0m:\u001b[36mrun\u001b[0m:\u001b[36m5\u001b[0m - \u001b[1mRunning\n",
      " INSERT INTO time (start_time, hour, day, week, month, year, weekday)\n",
      "SELECT DISTINCT\n",
      "    TIMESTAMP 'epoch' + ts/1000 * INTERVAL '1 second' AS start_time,\n",
      "    EXTRACT(hour FROM start_time) AS hour,\n",
      "    EXTRACT(day FROM start_time) AS day,\n",
      "    EXTRACT(week FROM start_time) AS week,\n",
      "    EXTRACT(month FROM start_time) AS month,\n",
      "    EXTRACT(year FROM start_time) AS year,\n",
      "    EXTRACT(weekday FROM start_time) AS weekday\n",
      "FROM event_stage_table\n",
      "WHERE ts IS NOT NULL;\u001b[0m\n",
      "\u001b[32m2023-07-24 19:45:22.224\u001b[0m | \u001b[32m\u001b[1mSUCCESS \u001b[0m | \u001b[36m__main__\u001b[0m:\u001b[36mrun\u001b[0m:\u001b[36m14\u001b[0m - \u001b[32m\u001b[1mNo results to fetch\u001b[0m\n",
      "\u001b[32m2023-07-24 19:45:23.454\u001b[0m | \u001b[1mINFO    \u001b[0m | \u001b[36m__main__\u001b[0m:\u001b[36mrun\u001b[0m:\u001b[36m5\u001b[0m - \u001b[1mRunning\n",
      " INSERT INTO songs (song_id, title, artist_id, year, duration)\n",
      "SELECT DISTINCT song_id, title, artist_id, year, duration\n",
      "FROM song_stage_table;\u001b[0m\n",
      "\u001b[32m2023-07-24 19:45:32.155\u001b[0m | \u001b[32m\u001b[1mSUCCESS \u001b[0m | \u001b[36m__main__\u001b[0m:\u001b[36mrun\u001b[0m:\u001b[36m14\u001b[0m - \u001b[32m\u001b[1mNo results to fetch\u001b[0m\n",
      "\u001b[32m2023-07-24 19:45:33.286\u001b[0m | \u001b[1mINFO    \u001b[0m | \u001b[36m__main__\u001b[0m:\u001b[36mrun\u001b[0m:\u001b[36m5\u001b[0m - \u001b[1mRunning\n",
      " INSERT INTO songplays (start_time, user_id, level, song_id, artist_id, session_id, location, user_agent)\n",
      "SELECT\n",
      "    TIMESTAMP 'epoch' + e.ts/1000 * INTERVAL '1 second' AS start_time,\n",
      "    e.userId,\n",
      "    e.level,\n",
      "    s.song_id,\n",
      "    s.artist_id,\n",
      "    e.sessionId,\n",
      "    e.location,\n",
      "    e.userAgent\n",
      "FROM event_stage_table e\n",
      "JOIN songs s ON e.song = s.title\n",
      "JOIN artists a ON e.artist = a.name AND s.artist_id = a.artist_id\n",
      "WHERE e.page = 'NextSong';\u001b[0m\n",
      "\u001b[32m2023-07-24 19:45:46.814\u001b[0m | \u001b[32m\u001b[1mSUCCESS \u001b[0m | \u001b[36m__main__\u001b[0m:\u001b[36mrun\u001b[0m:\u001b[36m14\u001b[0m - \u001b[32m\u001b[1mNo results to fetch\u001b[0m\n"
     ]
    }
   ],
   "source": [
    "for q in sql_queries.insert_table_queries:\n",
    "    run(q)"
   ]
  },
  {
   "cell_type": "code",
   "execution_count": 24,
   "metadata": {},
   "outputs": [
    {
     "name": "stdout",
     "output_type": "stream",
     "text": [
      "\u001b[32m2023-07-24 19:58:29.165\u001b[0m | \u001b[1mINFO    \u001b[0m | \u001b[36m__main__\u001b[0m:\u001b[36mrun\u001b[0m:\u001b[36m7\u001b[0m - \u001b[1mRunning\n",
      " DROP TABLE IF EXISTS songplays;\u001b[0m\n",
      "\u001b[32m2023-07-24 19:58:29.227\u001b[0m | \u001b[32m\u001b[1mSUCCESS \u001b[0m | \u001b[36m__main__\u001b[0m:\u001b[36mrun\u001b[0m:\u001b[36m16\u001b[0m - \u001b[32m\u001b[1mNo results to fetch\u001b[0m\n",
      "\u001b[32m2023-07-24 19:58:30.315\u001b[0m | \u001b[1mINFO    \u001b[0m | \u001b[36m__main__\u001b[0m:\u001b[36mrun\u001b[0m:\u001b[36m7\u001b[0m - \u001b[1mRunning\n",
      " DROP TABLE IF EXISTS users;\u001b[0m\n",
      "\u001b[32m2023-07-24 19:58:30.386\u001b[0m | \u001b[32m\u001b[1mSUCCESS \u001b[0m | \u001b[36m__main__\u001b[0m:\u001b[36mrun\u001b[0m:\u001b[36m16\u001b[0m - \u001b[32m\u001b[1mNo results to fetch\u001b[0m\n",
      "\u001b[32m2023-07-24 19:58:31.323\u001b[0m | \u001b[1mINFO    \u001b[0m | \u001b[36m__main__\u001b[0m:\u001b[36mrun\u001b[0m:\u001b[36m7\u001b[0m - \u001b[1mRunning\n",
      " DROP TABLE IF EXISTS songs;\u001b[0m\n",
      "\u001b[32m2023-07-24 19:58:31.380\u001b[0m | \u001b[32m\u001b[1mSUCCESS \u001b[0m | \u001b[36m__main__\u001b[0m:\u001b[36mrun\u001b[0m:\u001b[36m16\u001b[0m - \u001b[32m\u001b[1mNo results to fetch\u001b[0m\n",
      "\u001b[32m2023-07-24 19:58:33.451\u001b[0m | \u001b[1mINFO    \u001b[0m | \u001b[36m__main__\u001b[0m:\u001b[36mrun\u001b[0m:\u001b[36m7\u001b[0m - \u001b[1mRunning\n",
      " DROP TABLE IF EXISTS artists;\u001b[0m\n",
      "\u001b[32m2023-07-24 19:58:33.523\u001b[0m | \u001b[32m\u001b[1mSUCCESS \u001b[0m | \u001b[36m__main__\u001b[0m:\u001b[36mrun\u001b[0m:\u001b[36m16\u001b[0m - \u001b[32m\u001b[1mNo results to fetch\u001b[0m\n",
      "\u001b[32m2023-07-24 19:58:34.524\u001b[0m | \u001b[1mINFO    \u001b[0m | \u001b[36m__main__\u001b[0m:\u001b[36mrun\u001b[0m:\u001b[36m7\u001b[0m - \u001b[1mRunning\n",
      " DROP TABLE IF EXISTS time;\u001b[0m\n",
      "\u001b[32m2023-07-24 19:58:34.575\u001b[0m | \u001b[32m\u001b[1mSUCCESS \u001b[0m | \u001b[36m__main__\u001b[0m:\u001b[36mrun\u001b[0m:\u001b[36m16\u001b[0m - \u001b[32m\u001b[1mNo results to fetch\u001b[0m\n"
     ]
    }
   ],
   "source": [
    "for t in [\"songplays\",\"users\",\"songs\",\"artists\",\"time\"]:\n",
    "    # run(f\"DELETE FROM {t};\")\n",
    "    run(utils.get_drop_query(t))"
   ]
  },
  {
   "attachments": {},
   "cell_type": "markdown",
   "metadata": {},
   "source": [
    "# Using new statements"
   ]
  },
  {
   "cell_type": "markdown",
   "metadata": {},
   "source": [
    "## Create tables"
   ]
  },
  {
   "cell_type": "code",
   "execution_count": 20,
   "metadata": {},
   "outputs": [
    {
     "name": "stdout",
     "output_type": "stream",
     "text": [
      "\u001b[32m2023-08-04 00:44:30.661\u001b[0m | \u001b[1mINFO    \u001b[0m | \u001b[36m__main__\u001b[0m:\u001b[36mrun\u001b[0m:\u001b[36m6\u001b[0m - \u001b[1mRunning\n",
      " DROP TABLE IF EXISTS artists;\u001b[0m\n",
      "\u001b[32m2023-08-04 00:44:30.695\u001b[0m | \u001b[32m\u001b[1mSUCCESS \u001b[0m | \u001b[36m__main__\u001b[0m:\u001b[36mrun\u001b[0m:\u001b[36m15\u001b[0m - \u001b[32m\u001b[1mNo results to fetch\u001b[0m\n",
      "\u001b[32m2023-08-04 00:44:30.696\u001b[0m | \u001b[1mINFO    \u001b[0m | \u001b[36m__main__\u001b[0m:\u001b[36mrun\u001b[0m:\u001b[36m6\u001b[0m - \u001b[1mRunning\n",
      " DROP TABLE IF EXISTS songplays;\u001b[0m\n",
      "\u001b[32m2023-08-04 00:44:30.728\u001b[0m | \u001b[32m\u001b[1mSUCCESS \u001b[0m | \u001b[36m__main__\u001b[0m:\u001b[36mrun\u001b[0m:\u001b[36m15\u001b[0m - \u001b[32m\u001b[1mNo results to fetch\u001b[0m\n",
      "\u001b[32m2023-08-04 00:44:30.730\u001b[0m | \u001b[1mINFO    \u001b[0m | \u001b[36m__main__\u001b[0m:\u001b[36mrun\u001b[0m:\u001b[36m6\u001b[0m - \u001b[1mRunning\n",
      " DROP TABLE IF EXISTS songs;\u001b[0m\n",
      "\u001b[32m2023-08-04 00:44:30.765\u001b[0m | \u001b[32m\u001b[1mSUCCESS \u001b[0m | \u001b[36m__main__\u001b[0m:\u001b[36mrun\u001b[0m:\u001b[36m15\u001b[0m - \u001b[32m\u001b[1mNo results to fetch\u001b[0m\n",
      "\u001b[32m2023-08-04 00:44:30.766\u001b[0m | \u001b[1mINFO    \u001b[0m | \u001b[36m__main__\u001b[0m:\u001b[36mrun\u001b[0m:\u001b[36m6\u001b[0m - \u001b[1mRunning\n",
      " DROP TABLE IF EXISTS staging_events;\u001b[0m\n",
      "\u001b[32m2023-08-04 00:44:30.798\u001b[0m | \u001b[32m\u001b[1mSUCCESS \u001b[0m | \u001b[36m__main__\u001b[0m:\u001b[36mrun\u001b[0m:\u001b[36m15\u001b[0m - \u001b[32m\u001b[1mNo results to fetch\u001b[0m\n",
      "\u001b[32m2023-08-04 00:44:30.799\u001b[0m | \u001b[1mINFO    \u001b[0m | \u001b[36m__main__\u001b[0m:\u001b[36mrun\u001b[0m:\u001b[36m6\u001b[0m - \u001b[1mRunning\n",
      " DROP TABLE IF EXISTS staging_songs;\u001b[0m\n",
      "\u001b[32m2023-08-04 00:44:31.783\u001b[0m | \u001b[32m\u001b[1mSUCCESS \u001b[0m | \u001b[36m__main__\u001b[0m:\u001b[36mrun\u001b[0m:\u001b[36m15\u001b[0m - \u001b[32m\u001b[1mNo results to fetch\u001b[0m\n",
      "\u001b[32m2023-08-04 00:44:31.786\u001b[0m | \u001b[1mINFO    \u001b[0m | \u001b[36m__main__\u001b[0m:\u001b[36mrun\u001b[0m:\u001b[36m6\u001b[0m - \u001b[1mRunning\n",
      " DROP TABLE IF EXISTS time;\u001b[0m\n",
      "\u001b[32m2023-08-04 00:44:32.670\u001b[0m | \u001b[32m\u001b[1mSUCCESS \u001b[0m | \u001b[36m__main__\u001b[0m:\u001b[36mrun\u001b[0m:\u001b[36m15\u001b[0m - \u001b[32m\u001b[1mNo results to fetch\u001b[0m\n",
      "\u001b[32m2023-08-04 00:44:32.672\u001b[0m | \u001b[1mINFO    \u001b[0m | \u001b[36m__main__\u001b[0m:\u001b[36mrun\u001b[0m:\u001b[36m6\u001b[0m - \u001b[1mRunning\n",
      " DROP TABLE IF EXISTS users;\u001b[0m\n",
      "\u001b[32m2023-08-04 00:44:33.729\u001b[0m | \u001b[32m\u001b[1mSUCCESS \u001b[0m | \u001b[36m__main__\u001b[0m:\u001b[36mrun\u001b[0m:\u001b[36m15\u001b[0m - \u001b[32m\u001b[1mNo results to fetch\u001b[0m\n"
     ]
    }
   ],
   "source": [
    "from old import utils\n",
    "\n",
    "for t in [\"artists\",\"songplays\", \"songs\",\"staging_events\",\"staging_songs\",\"time\",\"users\"]:\n",
    "    run(utils.get_drop_query(t))"
   ]
  },
  {
   "cell_type": "code",
   "execution_count": 21,
   "metadata": {},
   "outputs": [
    {
     "data": {
      "text/plain": [
       "True"
      ]
     },
     "execution_count": 21,
     "metadata": {},
     "output_type": "execute_result"
    }
   ],
   "source": [
    "from pathlib import Path\n",
    "\n",
    "sql_filepath = Path().resolve().parents[1] / \"template/create_tables.sql\"\n",
    "sql_filepath.exists()"
   ]
  },
  {
   "cell_type": "code",
   "execution_count": 22,
   "metadata": {},
   "outputs": [
    {
     "data": {
      "text/plain": [
       "['CREATE TABLE public.artists (artistid varchar(256) NOT NULL,name varchar(256),location varchar(256),lattitude numeric(18,0),longitude numeric(18,0))',\n",
       " 'CREATE TABLE public.songplays (playid varchar(32) NOT NULL,start_time timestamp NOT NULL,userid int4 NOT NULL,\"level\" varchar(256),songid varchar(256),artistid varchar(256),sessionid int4,location varchar(256),user_agent varchar(256),CONSTRAINT songplays_pkey PRIMARY KEY (playid))',\n",
       " 'CREATE TABLE public.songs (songid varchar(256) NOT NULL,title varchar(256),artistid varchar(256),\"year\" int4,duration numeric(18,0),CONSTRAINT songs_pkey PRIMARY KEY (songid))',\n",
       " 'CREATE TABLE public.staging_events (artist varchar(256),auth varchar(256),firstname varchar(256),gender varchar(256),iteminsession int4,lastname varchar(256),length numeric(18,0),\"level\" varchar(256),location varchar(256),\"method\" varchar(256),page varchar(256),registration numeric(18,0),sessionid int4,song varchar(256),status int4,ts int8,useragent varchar(256),userid int4)',\n",
       " 'CREATE TABLE public.staging_songs (num_songs int4,artist_id varchar(256),artist_name varchar(256),artist_latitude numeric(18,0),artist_longitude numeric(18,0),artist_location varchar(256),song_id varchar(256),title varchar(256),duration numeric(18,0),\"year\" int4)',\n",
       " 'CREATE TABLE public.\"time\" (start_time timestamp NOT NULL,\"hour\" int4,\"day\" int4,week int4,\"month\" varchar(256),\"year\" int4,weekday varchar(256),CONSTRAINT time_pkey PRIMARY KEY (start_time))',\n",
       " 'CREATE TABLE public.users (userid int4 NOT NULL,first_name varchar(256),last_name varchar(256),gender varchar(256),\"level\" varchar(256),CONSTRAINT users_pkey PRIMARY KEY (userid))',\n",
       " '']"
      ]
     },
     "execution_count": 22,
     "metadata": {},
     "output_type": "execute_result"
    }
   ],
   "source": [
    "txt = sql_filepath.read_text()\n",
    "create_queries = [s.replace(\"\\n\",\"\").replace(\"\\t\",\"\") for s in txt.split(\";\")]\n",
    "create_queries"
   ]
  },
  {
   "cell_type": "code",
   "execution_count": 23,
   "metadata": {},
   "outputs": [
    {
     "name": "stdout",
     "output_type": "stream",
     "text": [
      "\u001b[32m2023-08-04 00:44:45.037\u001b[0m | \u001b[1mINFO    \u001b[0m | \u001b[36m__main__\u001b[0m:\u001b[36mrun\u001b[0m:\u001b[36m6\u001b[0m - \u001b[1mRunning\n",
      " CREATE TABLE public.artists (artistid varchar(256) NOT NULL,name varchar(256),location varchar(256),lattitude numeric(18,0),longitude numeric(18,0));\u001b[0m\n",
      "\u001b[32m2023-08-04 00:44:46.329\u001b[0m | \u001b[32m\u001b[1mSUCCESS \u001b[0m | \u001b[36m__main__\u001b[0m:\u001b[36mrun\u001b[0m:\u001b[36m15\u001b[0m - \u001b[32m\u001b[1mNo results to fetch\u001b[0m\n",
      "\u001b[32m2023-08-04 00:44:46.332\u001b[0m | \u001b[1mINFO    \u001b[0m | \u001b[36m__main__\u001b[0m:\u001b[36mrun\u001b[0m:\u001b[36m6\u001b[0m - \u001b[1mRunning\n",
      " CREATE TABLE public.songplays (playid varchar(32) NOT NULL,start_time timestamp NOT NULL,userid int4 NOT NULL,\"level\" varchar(256),songid varchar(256),artistid varchar(256),sessionid int4,location varchar(256),user_agent varchar(256),CONSTRAINT songplays_pkey PRIMARY KEY (playid));\u001b[0m\n",
      "\u001b[32m2023-08-04 00:44:47.519\u001b[0m | \u001b[32m\u001b[1mSUCCESS \u001b[0m | \u001b[36m__main__\u001b[0m:\u001b[36mrun\u001b[0m:\u001b[36m15\u001b[0m - \u001b[32m\u001b[1mNo results to fetch\u001b[0m\n",
      "\u001b[32m2023-08-04 00:44:47.522\u001b[0m | \u001b[1mINFO    \u001b[0m | \u001b[36m__main__\u001b[0m:\u001b[36mrun\u001b[0m:\u001b[36m6\u001b[0m - \u001b[1mRunning\n",
      " CREATE TABLE public.songs (songid varchar(256) NOT NULL,title varchar(256),artistid varchar(256),\"year\" int4,duration numeric(18,0),CONSTRAINT songs_pkey PRIMARY KEY (songid));\u001b[0m\n",
      "\u001b[32m2023-08-04 00:44:48.476\u001b[0m | \u001b[32m\u001b[1mSUCCESS \u001b[0m | \u001b[36m__main__\u001b[0m:\u001b[36mrun\u001b[0m:\u001b[36m15\u001b[0m - \u001b[32m\u001b[1mNo results to fetch\u001b[0m\n",
      "\u001b[32m2023-08-04 00:44:48.479\u001b[0m | \u001b[1mINFO    \u001b[0m | \u001b[36m__main__\u001b[0m:\u001b[36mrun\u001b[0m:\u001b[36m6\u001b[0m - \u001b[1mRunning\n",
      " CREATE TABLE public.staging_events (artist varchar(256),auth varchar(256),firstname varchar(256),gender varchar(256),iteminsession int4,lastname varchar(256),length numeric(18,0),\"level\" varchar(256),location varchar(256),\"method\" varchar(256),page varchar(256),registration numeric(18,0),sessionid int4,song varchar(256),status int4,ts int8,useragent varchar(256),userid int4);\u001b[0m\n",
      "\u001b[32m2023-08-04 00:44:49.508\u001b[0m | \u001b[32m\u001b[1mSUCCESS \u001b[0m | \u001b[36m__main__\u001b[0m:\u001b[36mrun\u001b[0m:\u001b[36m15\u001b[0m - \u001b[32m\u001b[1mNo results to fetch\u001b[0m\n",
      "\u001b[32m2023-08-04 00:44:49.510\u001b[0m | \u001b[1mINFO    \u001b[0m | \u001b[36m__main__\u001b[0m:\u001b[36mrun\u001b[0m:\u001b[36m6\u001b[0m - \u001b[1mRunning\n",
      " CREATE TABLE public.staging_songs (num_songs int4,artist_id varchar(256),artist_name varchar(256),artist_latitude numeric(18,0),artist_longitude numeric(18,0),artist_location varchar(256),song_id varchar(256),title varchar(256),duration numeric(18,0),\"year\" int4);\u001b[0m\n",
      "\u001b[32m2023-08-04 00:44:50.330\u001b[0m | \u001b[32m\u001b[1mSUCCESS \u001b[0m | \u001b[36m__main__\u001b[0m:\u001b[36mrun\u001b[0m:\u001b[36m15\u001b[0m - \u001b[32m\u001b[1mNo results to fetch\u001b[0m\n",
      "\u001b[32m2023-08-04 00:44:50.334\u001b[0m | \u001b[1mINFO    \u001b[0m | \u001b[36m__main__\u001b[0m:\u001b[36mrun\u001b[0m:\u001b[36m6\u001b[0m - \u001b[1mRunning\n",
      " CREATE TABLE public.\"time\" (start_time timestamp NOT NULL,\"hour\" int4,\"day\" int4,week int4,\"month\" varchar(256),\"year\" int4,weekday varchar(256),CONSTRAINT time_pkey PRIMARY KEY (start_time));\u001b[0m\n",
      "\u001b[32m2023-08-04 00:44:51.342\u001b[0m | \u001b[32m\u001b[1mSUCCESS \u001b[0m | \u001b[36m__main__\u001b[0m:\u001b[36mrun\u001b[0m:\u001b[36m15\u001b[0m - \u001b[32m\u001b[1mNo results to fetch\u001b[0m\n",
      "\u001b[32m2023-08-04 00:44:51.344\u001b[0m | \u001b[1mINFO    \u001b[0m | \u001b[36m__main__\u001b[0m:\u001b[36mrun\u001b[0m:\u001b[36m6\u001b[0m - \u001b[1mRunning\n",
      " CREATE TABLE public.users (userid int4 NOT NULL,first_name varchar(256),last_name varchar(256),gender varchar(256),\"level\" varchar(256),CONSTRAINT users_pkey PRIMARY KEY (userid));\u001b[0m\n",
      "\u001b[32m2023-08-04 00:44:52.263\u001b[0m | \u001b[32m\u001b[1mSUCCESS \u001b[0m | \u001b[36m__main__\u001b[0m:\u001b[36mrun\u001b[0m:\u001b[36m15\u001b[0m - \u001b[32m\u001b[1mNo results to fetch\u001b[0m\n"
     ]
    }
   ],
   "source": [
    "for q in create_queries:\n",
    "    if q:\n",
    "        run(q + \";\")"
   ]
  },
  {
   "attachments": {},
   "cell_type": "markdown",
   "metadata": {},
   "source": [
    "## Copy tables"
   ]
  },
  {
   "cell_type": "code",
   "execution_count": 24,
   "metadata": {},
   "outputs": [
    {
     "name": "stdout",
     "output_type": "stream",
     "text": [
      "\u001b[32m2023-08-04 00:44:58.357\u001b[0m | \u001b[1mINFO    \u001b[0m | \u001b[36m__main__\u001b[0m:\u001b[36mrun\u001b[0m:\u001b[36m6\u001b[0m - \u001b[1mRunning\n",
      " COPY staging_songs\n",
      "FROM 's3://udacity-dataengineer-pipeline-project-s3/song_data/A/A/A/' -- use subset\n",
      "-- FROM 's3://udacity-dataengineer-pipeline-project-s3/song_data/'\n",
      "IAM_ROLE 'arn:aws:iam::561130499334:role/my-redshift-service-role'\n",
      "JSON 'auto'\n",
      "STATUPDATE OFF\n",
      "MAXERROR 1\n",
      "COMPUPDATE OFF;\u001b[0m\n"
     ]
    },
    {
     "ename": "InternalError_",
     "evalue": "abort query\nDETAIL:  \n  -----------------------------------------------\n  error:  abort query\n  code:      1020\n  context:   system requested abort\n  query:     2418347[child_sequence:1]\n  location:  queryabort.hpp:410\n  process:   padbmaster [pid=1073905947]\n  -----------------------------------------------\n\n",
     "output_type": "error",
     "traceback": [
      "\u001b[0;31m---------------------------------------------------------------------------\u001b[0m",
      "\u001b[0;31mInternalError_\u001b[0m                            Traceback (most recent call last)",
      "\u001b[0;32m<ipython-input-24-ebb7e9c83960>\u001b[0m in \u001b[0;36m<module>\u001b[0;34m\u001b[0m\n\u001b[1;32m      9\u001b[0m \u001b[0mCOMPUPDATE\u001b[0m \u001b[0mOFF\u001b[0m\u001b[0;34m;\u001b[0m\u001b[0;34m\u001b[0m\u001b[0;34m\u001b[0m\u001b[0m\n\u001b[1;32m     10\u001b[0m \"\"\"\n\u001b[0;32m---> 11\u001b[0;31m \u001b[0mrun\u001b[0m\u001b[0;34m(\u001b[0m\u001b[0mq2\u001b[0m\u001b[0;34m)\u001b[0m\u001b[0;34m\u001b[0m\u001b[0;34m\u001b[0m\u001b[0m\n\u001b[0m",
      "\u001b[0;32m<ipython-input-4-f70b369d738b>\u001b[0m in \u001b[0;36mrun\u001b[0;34m(query)\u001b[0m\n\u001b[1;32m      5\u001b[0m     \u001b[0;32massert\u001b[0m \u001b[0mq\u001b[0m\u001b[0;34m.\u001b[0m\u001b[0mendswith\u001b[0m\u001b[0;34m(\u001b[0m\u001b[0;34m\";\"\u001b[0m\u001b[0;34m)\u001b[0m\u001b[0;34m\u001b[0m\u001b[0;34m\u001b[0m\u001b[0m\n\u001b[1;32m      6\u001b[0m     \u001b[0mlogger\u001b[0m\u001b[0;34m.\u001b[0m\u001b[0minfo\u001b[0m\u001b[0;34m(\u001b[0m\u001b[0;34mf\"Running\\n {q}\"\u001b[0m\u001b[0;34m)\u001b[0m\u001b[0;34m\u001b[0m\u001b[0;34m\u001b[0m\u001b[0m\n\u001b[0;32m----> 7\u001b[0;31m     \u001b[0mcursor\u001b[0m\u001b[0;34m.\u001b[0m\u001b[0mexecute\u001b[0m\u001b[0;34m(\u001b[0m\u001b[0mq\u001b[0m\u001b[0;34m)\u001b[0m\u001b[0;34m\u001b[0m\u001b[0;34m\u001b[0m\u001b[0m\n\u001b[0m\u001b[1;32m      8\u001b[0m     \u001b[0;32mtry\u001b[0m\u001b[0;34m:\u001b[0m\u001b[0;34m\u001b[0m\u001b[0;34m\u001b[0m\u001b[0m\n\u001b[1;32m      9\u001b[0m         \u001b[0mresult\u001b[0m \u001b[0;34m=\u001b[0m \u001b[0mcursor\u001b[0m\u001b[0;34m.\u001b[0m\u001b[0mfetchall\u001b[0m\u001b[0;34m(\u001b[0m\u001b[0;34m)\u001b[0m\u001b[0;34m\u001b[0m\u001b[0;34m\u001b[0m\u001b[0m\n",
      "\u001b[0;31mInternalError_\u001b[0m: abort query\nDETAIL:  \n  -----------------------------------------------\n  error:  abort query\n  code:      1020\n  context:   system requested abort\n  query:     2418347[child_sequence:1]\n  location:  queryabort.hpp:410\n  process:   padbmaster [pid=1073905947]\n  -----------------------------------------------\n\n"
     ]
    }
   ],
   "source": [
    "q2=\"\"\"\n",
    "COPY staging_songs\n",
    "FROM 's3://udacity-dataengineer-pipeline-project-s3/song_data/A/A/A/' -- use subset\n",
    "-- FROM 's3://udacity-dataengineer-pipeline-project-s3/song_data/'\n",
    "IAM_ROLE 'arn:aws:iam::561130499334:role/my-redshift-service-role'\n",
    "JSON 'auto'\n",
    "STATUPDATE OFF\n",
    "MAXERROR 1\n",
    "COMPUPDATE OFF;\n",
    "\"\"\"\n",
    "run(q2)"
   ]
  },
  {
   "cell_type": "code",
   "execution_count": null,
   "metadata": {},
   "outputs": [],
   "source": [
    "run(utils.get_list_query(\"staging_songs\"))"
   ]
  },
  {
   "cell_type": "code",
   "execution_count": 14,
   "metadata": {},
   "outputs": [
    {
     "name": "stdout",
     "output_type": "stream",
     "text": [
      "\u001b[32m2023-08-02 19:11:25.444\u001b[0m | \u001b[1mINFO    \u001b[0m | \u001b[36m__main__\u001b[0m:\u001b[36mrun\u001b[0m:\u001b[36m6\u001b[0m - \u001b[1mRunning\n",
      " COPY staging_events\n",
      "FROM 's3://udacity-dataengineer-pipeline-project-s3/log_data'\n",
      "IAM_ROLE 'arn:aws:iam::561130499334:role/my-redshift-service-role'\n",
      "JSON 's3://udacity-dataengineer-pipeline-project-s3/log_json_path.json'\n",
      "STATUPDATE ON\n",
      "MAXERROR 1\n",
      "COMPUPDATE OFF;\u001b[0m\n",
      "\u001b[32m2023-08-02 19:11:28.459\u001b[0m | \u001b[32m\u001b[1mSUCCESS \u001b[0m | \u001b[36m__main__\u001b[0m:\u001b[36mrun\u001b[0m:\u001b[36m15\u001b[0m - \u001b[32m\u001b[1mNo results to fetch\u001b[0m\n"
     ]
    }
   ],
   "source": [
    "q1 =\"\"\"\n",
    "COPY staging_events\n",
    "FROM 's3://udacity-dataengineer-pipeline-project-s3/log_data'\n",
    "IAM_ROLE 'arn:aws:iam::561130499334:role/my-redshift-service-role'\n",
    "JSON 's3://udacity-dataengineer-pipeline-project-s3/log_json_path.json'\n",
    "STATUPDATE ON\n",
    "MAXERROR 1\n",
    "COMPUPDATE OFF;\n",
    "\"\"\"\n",
    "run(q1)"
   ]
  },
  {
   "cell_type": "code",
   "execution_count": 15,
   "metadata": {},
   "outputs": [
    {
     "name": "stdout",
     "output_type": "stream",
     "text": [
      "\u001b[32m2023-08-02 19:11:28.529\u001b[0m | \u001b[1mINFO    \u001b[0m | \u001b[36m__main__\u001b[0m:\u001b[36mrun\u001b[0m:\u001b[36m6\u001b[0m - \u001b[1mRunning\n",
      " SELECT * FROM staging_events LIMIT 3;\u001b[0m\n",
      "\u001b[32m2023-08-02 19:11:31.467\u001b[0m | \u001b[32m\u001b[1mSUCCESS \u001b[0m | \u001b[36m__main__\u001b[0m:\u001b[36mrun\u001b[0m:\u001b[36m12\u001b[0m - \u001b[32m\u001b[1m[{'artist': None,\n",
      "  'auth': 'Logged In',\n",
      "  'firstname': 'Walter',\n",
      "  'gender': 'M',\n",
      "  'iteminsession': 0,\n",
      "  'lastname': 'Frye',\n",
      "  'length': None,\n",
      "  'level': 'free',\n",
      "  'location': 'San Francisco-Oakland-Hayward, CA',\n",
      "  'method': 'GET',\n",
      "  'page': 'Home',\n",
      "  'registration': Decimal('1540919166796'),\n",
      "  'sessionid': 38,\n",
      "  'song': None,\n",
      "  'status': 200,\n",
      "  'ts': 1541105830796,\n",
      "  'useragent': '\"Mozilla/5.0 (Macintosh; Intel Mac OS X 10_9_4) '\n",
      "               'AppleWebKit/537.36 (KHTML, like Gecko) Chrome/36.0.1985.143 '\n",
      "               'Safari/537.36\"',\n",
      "  'userid': 39},\n",
      " {'artist': None,\n",
      "  'auth': 'Logged In',\n",
      "  'firstname': 'Kaylee',\n",
      "  'gender': 'F',\n",
      "  'iteminsession': 0,\n",
      "  'lastname': 'Summers',\n",
      "  'length': None,\n",
      "  'level': 'free',\n",
      "  'location': 'Phoenix-Mesa-Scottsdale, AZ',\n",
      "  'method': 'GET',\n",
      "  'page': 'Home',\n",
      "  'registration': Decimal('1540344794796'),\n",
      "  'sessionid': 139,\n",
      "  'song': None,\n",
      "  'status': 200,\n",
      "  'ts': 1541106106796,\n",
      "  'useragent': '\"Mozilla/5.0 (Windows NT 6.1; WOW64) AppleWebKit/537.36 '\n",
      "               '(KHTML, like Gecko) Chrome/35.0.1916.153 Safari/537.36\"',\n",
      "  'userid': 8},\n",
      " {'artist': \"Des'ree\",\n",
      "  'auth': 'Logged In',\n",
      "  'firstname': 'Kaylee',\n",
      "  'gender': 'F',\n",
      "  'iteminsession': 1,\n",
      "  'lastname': 'Summers',\n",
      "  'length': Decimal('246'),\n",
      "  'level': 'free',\n",
      "  'location': 'Phoenix-Mesa-Scottsdale, AZ',\n",
      "  'method': 'PUT',\n",
      "  'page': 'NextSong',\n",
      "  'registration': Decimal('1540344794796'),\n",
      "  'sessionid': 139,\n",
      "  'song': 'You Gotta Be',\n",
      "  'status': 200,\n",
      "  'ts': 1541106106796,\n",
      "  'useragent': '\"Mozilla/5.0 (Windows NT 6.1; WOW64) AppleWebKit/537.36 '\n",
      "               '(KHTML, like Gecko) Chrome/35.0.1916.153 Safari/537.36\"',\n",
      "  'userid': 8}]\u001b[0m\n"
     ]
    }
   ],
   "source": [
    "run(utils.get_list_query(\"staging_events\"))"
   ]
  },
  {
   "cell_type": "markdown",
   "metadata": {},
   "source": [
    "## Insert"
   ]
  },
  {
   "cell_type": "code",
   "execution_count": 1,
   "metadata": {},
   "outputs": [
    {
     "data": {
      "text/plain": [
       "{'songplay_table_insert': '\\n        INSERT INTO public.songplays (playid, start_time, userid, \"level\", songid, artistid, sessionid, location, user_agent)\\n        SELECT\\n                md5(events.sessionid || events.start_time) songplay_id,\\n                events.start_time, \\n                events.userid, \\n                events.level, \\n                songs.song_id, \\n                songs.artist_id, \\n                events.sessionid, \\n                events.location, \\n                events.useragent\\n                FROM (SELECT TIMESTAMP \\'epoch\\' + ts/1000 * interval \\'1 second\\' AS start_time, *\\n            FROM staging_events\\n            WHERE page=\\'NextSong\\') events\\n            LEFT JOIN staging_songs songs\\n            ON events.song = songs.title\\n                AND events.artist = songs.artist_name\\n                AND events.length = songs.duration\\n    ',\n",
       " 'user_table_insert': '\\n        INSERT INTO public.users (userid, first_name, last_name, gender, \"level\")\\n        SELECT distinct userid, firstname, lastname, gender, level\\n        FROM staging_events\\n        WHERE page=\\'NextSong\\'\\n    ',\n",
       " 'song_table_insert': '\\n        INSERT INTO public.songs (songid, title, artistid, \"year\", duration)\\n        SELECT distinct song_id, title, artist_id, year, duration\\n        FROM staging_songs\\n    ',\n",
       " 'artist_table_insert': '\\n        INSERT INTO public.artists (artistid, name, location, lattitude, longitude)\\n        SELECT distinct artist_id, artist_name, artist_location, artist_latitude, artist_longitude\\n        FROM staging_songs\\n    ',\n",
       " 'time_table_insert': '\\n        INSERT INTO public.\"time\" (start_time, \"hour\", \"day\", week, \"month\", \"year\", weekday)\\n        SELECT start_time, extract(hour from start_time), extract(day from start_time), extract(week from start_time), \\n               extract(month from start_time), extract(year from start_time), extract(dayofweek from start_time)\\n        FROM songplays\\n    '}"
      ]
     },
     "execution_count": 1,
     "metadata": {},
     "output_type": "execute_result"
    }
   ],
   "source": [
    "from ...template.plugins.helpers.sql_queries import SqlQueries\n",
    "\n",
    "dct = {k: v for k,v in vars(SqlQueries).items() if k.endswith(\"_insert\")}\n",
    "dct"
   ]
  },
  {
   "cell_type": "code",
   "execution_count": 17,
   "metadata": {},
   "outputs": [
    {
     "name": "stdout",
     "output_type": "stream",
     "text": [
      "\u001b[32m2023-08-02 19:11:40.290\u001b[0m | \u001b[1mINFO    \u001b[0m | \u001b[36m__main__\u001b[0m:\u001b[36mrun\u001b[0m:\u001b[36m6\u001b[0m - \u001b[1mRunning\n",
      " INSERT INTO public.songplays (playid, start_time, userid, \"level\", songid, artistid, sessionid, location, user_agent)\n",
      "        SELECT\n",
      "                md5(events.sessionid || events.start_time) songplay_id,\n",
      "                events.start_time, \n",
      "                events.userid, \n",
      "                events.level, \n",
      "                songs.song_id, \n",
      "                songs.artist_id, \n",
      "                events.sessionid, \n",
      "                events.location, \n",
      "                events.useragent\n",
      "                FROM (SELECT TIMESTAMP 'epoch' + ts/1000 * interval '1 second' AS start_time, *\n",
      "            FROM staging_events\n",
      "            WHERE page='NextSong') events\n",
      "            LEFT JOIN staging_songs songs\n",
      "            ON events.song = songs.title\n",
      "                AND events.artist = songs.artist_name\n",
      "                AND events.length = songs.duration\n",
      "    ;\u001b[0m\n",
      "\u001b[32m2023-08-02 19:11:48.427\u001b[0m | \u001b[32m\u001b[1mSUCCESS \u001b[0m | \u001b[36m__main__\u001b[0m:\u001b[36mrun\u001b[0m:\u001b[36m15\u001b[0m - \u001b[32m\u001b[1mNo results to fetch\u001b[0m\n",
      "\u001b[32m2023-08-02 19:11:48.428\u001b[0m | \u001b[1mINFO    \u001b[0m | \u001b[36m__main__\u001b[0m:\u001b[36mrun\u001b[0m:\u001b[36m6\u001b[0m - \u001b[1mRunning\n",
      " INSERT INTO public.users (userid, first_name, last_name, gender, \"level\")\n",
      "        SELECT distinct userid, firstname, lastname, gender, level\n",
      "        FROM staging_events\n",
      "        WHERE page='NextSong'\n",
      "    ;\u001b[0m\n",
      "\u001b[32m2023-08-02 19:11:50.271\u001b[0m | \u001b[32m\u001b[1mSUCCESS \u001b[0m | \u001b[36m__main__\u001b[0m:\u001b[36mrun\u001b[0m:\u001b[36m15\u001b[0m - \u001b[32m\u001b[1mNo results to fetch\u001b[0m\n",
      "\u001b[32m2023-08-02 19:11:50.274\u001b[0m | \u001b[1mINFO    \u001b[0m | \u001b[36m__main__\u001b[0m:\u001b[36mrun\u001b[0m:\u001b[36m6\u001b[0m - \u001b[1mRunning\n",
      " INSERT INTO public.songs (songid, title, artistid, \"year\", duration)\n",
      "        SELECT distinct song_id, title, artist_id, year, duration\n",
      "        FROM staging_songs\n",
      "    ;\u001b[0m\n",
      "\u001b[32m2023-08-02 19:11:55.240\u001b[0m | \u001b[32m\u001b[1mSUCCESS \u001b[0m | \u001b[36m__main__\u001b[0m:\u001b[36mrun\u001b[0m:\u001b[36m15\u001b[0m - \u001b[32m\u001b[1mNo results to fetch\u001b[0m\n",
      "\u001b[32m2023-08-02 19:11:55.243\u001b[0m | \u001b[1mINFO    \u001b[0m | \u001b[36m__main__\u001b[0m:\u001b[36mrun\u001b[0m:\u001b[36m6\u001b[0m - \u001b[1mRunning\n",
      " INSERT INTO public.artists (artistid, name, location, lattitude, longitude)\n",
      "        SELECT distinct artist_id, artist_name, artist_location, artist_latitude, artist_longitude\n",
      "        FROM staging_songs\n",
      "    ;\u001b[0m\n",
      "\u001b[32m2023-08-02 19:12:00.306\u001b[0m | \u001b[32m\u001b[1mSUCCESS \u001b[0m | \u001b[36m__main__\u001b[0m:\u001b[36mrun\u001b[0m:\u001b[36m15\u001b[0m - \u001b[32m\u001b[1mNo results to fetch\u001b[0m\n",
      "\u001b[32m2023-08-02 19:12:00.308\u001b[0m | \u001b[1mINFO    \u001b[0m | \u001b[36m__main__\u001b[0m:\u001b[36mrun\u001b[0m:\u001b[36m6\u001b[0m - \u001b[1mRunning\n",
      " INSERT INTO public.\"time\" (start_time, \"hour\", \"day\", week, \"month\", \"year\", weekday)\n",
      "        SELECT start_time, extract(hour from start_time), extract(day from start_time), extract(week from start_time), \n",
      "               extract(month from start_time), extract(year from start_time), extract(dayofweek from start_time)\n",
      "        FROM songplays\n",
      "    ;\u001b[0m\n",
      "\u001b[32m2023-08-02 19:12:03.173\u001b[0m | \u001b[32m\u001b[1mSUCCESS \u001b[0m | \u001b[36m__main__\u001b[0m:\u001b[36mrun\u001b[0m:\u001b[36m15\u001b[0m - \u001b[32m\u001b[1mNo results to fetch\u001b[0m\n"
     ]
    }
   ],
   "source": [
    "for k,v in dct.items():\n",
    "    run(v + \";\")"
   ]
  },
  {
   "cell_type": "code",
   "execution_count": 18,
   "metadata": {},
   "outputs": [
    {
     "name": "stdout",
     "output_type": "stream",
     "text": [
      "\u001b[32m2023-08-02 19:12:03.245\u001b[0m | \u001b[1mINFO    \u001b[0m | \u001b[36m__main__\u001b[0m:\u001b[36mrun\u001b[0m:\u001b[36m6\u001b[0m - \u001b[1mRunning\n",
      " SELECT * FROM public.songs LIMIT 3;\u001b[0m\n",
      "\u001b[32m2023-08-02 19:12:07.475\u001b[0m | \u001b[32m\u001b[1mSUCCESS \u001b[0m | \u001b[36m__main__\u001b[0m:\u001b[36mrun\u001b[0m:\u001b[36m12\u001b[0m - \u001b[32m\u001b[1m[{'artistid': 'AR1KTV21187B9ACD72',\n",
      "  'duration': Decimal('343'),\n",
      "  'songid': 'SOSMJFC12A8C13DE0C',\n",
      "  'title': 'Is That All There Is?',\n",
      "  'year': 0},\n",
      " {'artistid': 'ARA23XO1187B9AF18F',\n",
      "  'duration': Decimal('192'),\n",
      "  'songid': 'SOKTJDS12AF72A25E5',\n",
      "  'title': 'Drown In My Own Tears (24-Bit Digitally Remastered 04)',\n",
      "  'year': 0},\n",
      " {'artistid': 'ARSVTNL1187B992A91',\n",
      "  'duration': Decimal('129'),\n",
      "  'songid': 'SOEKAZG12AB018837E',\n",
      "  'title': \"I'll Slap Your Face (Entertainment USA Theme)\",\n",
      "  'year': 2001}]\u001b[0m\n",
      "\u001b[32m2023-08-02 19:12:07.478\u001b[0m | \u001b[1mINFO    \u001b[0m | \u001b[36m__main__\u001b[0m:\u001b[36mrun\u001b[0m:\u001b[36m6\u001b[0m - \u001b[1mRunning\n",
      " SELECT * FROM public.users LIMIT 3;\u001b[0m\n",
      "\u001b[32m2023-08-02 19:12:07.566\u001b[0m | \u001b[32m\u001b[1mSUCCESS \u001b[0m | \u001b[36m__main__\u001b[0m:\u001b[36mrun\u001b[0m:\u001b[36m12\u001b[0m - \u001b[32m\u001b[1m[{'first_name': 'Stefany',\n",
      "  'gender': 'F',\n",
      "  'last_name': 'White',\n",
      "  'level': 'free',\n",
      "  'userid': 83},\n",
      " {'first_name': 'Brantley',\n",
      "  'gender': 'M',\n",
      "  'last_name': 'West',\n",
      "  'level': 'free',\n",
      "  'userid': 28},\n",
      " {'first_name': 'Ayla',\n",
      "  'gender': 'F',\n",
      "  'last_name': 'Johnson',\n",
      "  'level': 'free',\n",
      "  'userid': 63}]\u001b[0m\n"
     ]
    }
   ],
   "source": [
    "for t in [\"public.songs\", \"public.users\"]:\n",
    "    run(utils.get_list_query(t))"
   ]
  }
 ],
 "metadata": {
  "kernelspec": {
   "display_name": "venv",
   "language": "python",
   "name": "python3"
  },
  "language_info": {
   "codemirror_mode": {
    "name": "ipython",
    "version": 3
   },
   "file_extension": ".py",
   "mimetype": "text/x-python",
   "name": "python",
   "nbconvert_exporter": "python",
   "pygments_lexer": "ipython3",
   "version": "3.6.9"
  },
  "orig_nbformat": 4
 },
 "nbformat": 4,
 "nbformat_minor": 2
}
