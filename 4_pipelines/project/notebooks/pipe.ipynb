{
 "cells": [
  {
   "cell_type": "markdown",
   "metadata": {},
   "source": [
    "# Test connection"
   ]
  },
  {
   "cell_type": "code",
   "execution_count": 3,
   "metadata": {},
   "outputs": [],
   "source": [
    "import psycopg2\n",
    "conn = psycopg2.connect(\n",
    "    host='default.561130499334.eu-central-1.redshift-serverless.amazonaws.com',\n",
    "    port=\"5439\",\n",
    "    user=\"awsuser\",\n",
    "    password=\"R3dsh1ft\",\n",
    "    database='dev'\n",
    ")\n",
    "cursor = conn.cursor()"
   ]
  },
  {
   "cell_type": "code",
   "execution_count": 9,
   "metadata": {},
   "outputs": [
    {
     "name": "stdout",
     "output_type": "stream",
     "text": [
      "[(1, 'John', 30), (2, 'Jane', 25), (3, 'Mike', 40)]\n"
     ]
    }
   ],
   "source": [
    "from pprint import pprint\n",
    "\n",
    "def run(query: str):\n",
    "    cursor.execute(query)\n",
    "    try:\n",
    "        result = cursor.fetchall()\n",
    "        pprint(result)\n",
    "    except psycopg2.ProgrammingError as e:\n",
    "        if \"no results to fetch\" in str(e):\n",
    "            pass\n",
    "        else:\n",
    "            raise e\n",
    "    conn.commit()\n",
    "\n",
    "\n",
    "run('SELECT * FROM DummyTable')"
   ]
  },
  {
   "cell_type": "code",
   "execution_count": null,
   "metadata": {},
   "outputs": [],
   "source": [
    "# if necessary: close connection\n",
    "cursor.close()\n",
    "conn.close()"
   ]
  },
  {
   "cell_type": "markdown",
   "metadata": {},
   "source": [
    "# Create tables"
   ]
  },
  {
   "cell_type": "code",
   "execution_count": null,
   "metadata": {},
   "outputs": [],
   "source": [
    "import sql_queries\n",
    "\n",
    "for q in sql_queries.create_table_queries:\n",
    "    run(q)"
   ]
  }
 ],
 "metadata": {
  "kernelspec": {
   "display_name": "venv",
   "language": "python",
   "name": "python3"
  },
  "language_info": {
   "codemirror_mode": {
    "name": "ipython",
    "version": 3
   },
   "file_extension": ".py",
   "mimetype": "text/x-python",
   "name": "python",
   "nbconvert_exporter": "python",
   "pygments_lexer": "ipython3",
   "version": "3.6.9"
  },
  "orig_nbformat": 4
 },
 "nbformat": 4,
 "nbformat_minor": 2
}
